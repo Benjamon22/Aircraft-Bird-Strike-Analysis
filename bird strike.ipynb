{
 "cells": [
  {
   "cell_type": "code",
   "execution_count": 578,
   "id": "e2085ee6-ae71-4c3b-b8c1-edc3418a7c46",
   "metadata": {},
   "outputs": [],
   "source": [
    "# Data analysis \n",
    "import pandas as pd\n",
    "import numpy as np\n",
    "# Data visualization \n",
    "import matplotlib.pyplot as plt\n",
    "import seaborn as sns\n",
    "import geopandas as gpd\n",
    "# Modeling\n",
    "from sklearn.utils import resample\n",
    "from sklearn.preprocessing import StandardScaler\n",
    "from sklearn.model_selection import train_test_split\n",
    "from sklearn.linear_model import LogisticRegression\n",
    "from sklearn.ensemble import RandomForestClassifier\n",
    "from sklearn.neighbors import KNeighborsClassifier\n",
    "from sklearn.linear_model import LinearRegression\n",
    "from sklearn.ensemble import RandomForestRegressor\n",
    "from sklearn.metrics import classification_report, accuracy_score, confusion_matrix\n",
    "from sklearn.model_selection import cross_val_score\n",
    "from sklearn.metrics import precision_recall_curve\n",
    "from sklearn.metrics import roc_auc_score\n",
    "from sklearn.metrics import mean_squared_error, r2_score"
   ]
  },
  {
   "cell_type": "code",
   "execution_count": 579,
   "id": "32322b1f-9e14-42e8-8196-9cb732f0f7cb",
   "metadata": {},
   "outputs": [],
   "source": [
    "df = pd.read_csv('bird strikes.csv')"
   ]
  },
  {
   "cell_type": "code",
   "execution_count": 580,
   "id": "f244becc-0e4f-44d3-bf29-d66320288bbc",
   "metadata": {},
   "outputs": [
    {
     "data": {
      "text/html": [
       "<div>\n",
       "<style scoped>\n",
       "    .dataframe tbody tr th:only-of-type {\n",
       "        vertical-align: middle;\n",
       "    }\n",
       "\n",
       "    .dataframe tbody tr th {\n",
       "        vertical-align: top;\n",
       "    }\n",
       "\n",
       "    .dataframe thead th {\n",
       "        text-align: right;\n",
       "    }\n",
       "</style>\n",
       "<table border=\"1\" class=\"dataframe\">\n",
       "  <thead>\n",
       "    <tr style=\"text-align: right;\">\n",
       "      <th></th>\n",
       "      <th>RecordID</th>\n",
       "      <th>AircraftType</th>\n",
       "      <th>AirportName</th>\n",
       "      <th>AltitudeBin</th>\n",
       "      <th>MakeModel</th>\n",
       "      <th>NumberStruck</th>\n",
       "      <th>NumberStruckActual</th>\n",
       "      <th>Effect</th>\n",
       "      <th>FlightDate</th>\n",
       "      <th>Damage</th>\n",
       "      <th>...</th>\n",
       "      <th>RemainsSentToSmithsonian</th>\n",
       "      <th>Remarks</th>\n",
       "      <th>WildlifeSize</th>\n",
       "      <th>ConditionsSky</th>\n",
       "      <th>WildlifeSpecies</th>\n",
       "      <th>PilotWarned</th>\n",
       "      <th>Cost</th>\n",
       "      <th>Altitude</th>\n",
       "      <th>PeopleInjured</th>\n",
       "      <th>IsAircraftLarge?</th>\n",
       "    </tr>\n",
       "  </thead>\n",
       "  <tbody>\n",
       "    <tr>\n",
       "      <th>0</th>\n",
       "      <td>202152</td>\n",
       "      <td>Airplane</td>\n",
       "      <td>LAGUARDIA NY</td>\n",
       "      <td>(1000, 2000]</td>\n",
       "      <td>B-737-400</td>\n",
       "      <td>Over 100</td>\n",
       "      <td>859</td>\n",
       "      <td>Engine Shut Down</td>\n",
       "      <td>11/23/00 0:00</td>\n",
       "      <td>Caused damage</td>\n",
       "      <td>...</td>\n",
       "      <td>False</td>\n",
       "      <td>FLT 753. PILOT REPTD A HUNDRED BIRDS ON UNKN T...</td>\n",
       "      <td>Medium</td>\n",
       "      <td>No Cloud</td>\n",
       "      <td>Unknown bird - medium</td>\n",
       "      <td>N</td>\n",
       "      <td>30,736</td>\n",
       "      <td>1500</td>\n",
       "      <td>0</td>\n",
       "      <td>Yes</td>\n",
       "    </tr>\n",
       "    <tr>\n",
       "      <th>1</th>\n",
       "      <td>208159</td>\n",
       "      <td>Airplane</td>\n",
       "      <td>DALLAS/FORT WORTH INTL ARPT</td>\n",
       "      <td>(-1, 0]</td>\n",
       "      <td>MD-80</td>\n",
       "      <td>Over 100</td>\n",
       "      <td>424</td>\n",
       "      <td>NaN</td>\n",
       "      <td>7/25/01 0:00</td>\n",
       "      <td>Caused damage</td>\n",
       "      <td>...</td>\n",
       "      <td>False</td>\n",
       "      <td>102 CARCASSES FOUND. 1 LDG LIGHT ON NOSE GEAR ...</td>\n",
       "      <td>Small</td>\n",
       "      <td>Some Cloud</td>\n",
       "      <td>Rock pigeon</td>\n",
       "      <td>Y</td>\n",
       "      <td>0</td>\n",
       "      <td>0</td>\n",
       "      <td>0</td>\n",
       "      <td>No</td>\n",
       "    </tr>\n",
       "    <tr>\n",
       "      <th>2</th>\n",
       "      <td>207601</td>\n",
       "      <td>Airplane</td>\n",
       "      <td>LAKEFRONT AIRPORT</td>\n",
       "      <td>(30, 50]</td>\n",
       "      <td>C-500</td>\n",
       "      <td>Over 100</td>\n",
       "      <td>261</td>\n",
       "      <td>NaN</td>\n",
       "      <td>9/14/01 0:00</td>\n",
       "      <td>No damage</td>\n",
       "      <td>...</td>\n",
       "      <td>False</td>\n",
       "      <td>FLEW UNDER A VERY LARGE FLOCK OF BIRDS OVER AP...</td>\n",
       "      <td>Small</td>\n",
       "      <td>No Cloud</td>\n",
       "      <td>European starling</td>\n",
       "      <td>N</td>\n",
       "      <td>0</td>\n",
       "      <td>50</td>\n",
       "      <td>0</td>\n",
       "      <td>No</td>\n",
       "    </tr>\n",
       "    <tr>\n",
       "      <th>3</th>\n",
       "      <td>215953</td>\n",
       "      <td>Airplane</td>\n",
       "      <td>SEATTLE-TACOMA INTL</td>\n",
       "      <td>(30, 50]</td>\n",
       "      <td>B-737-400</td>\n",
       "      <td>Over 100</td>\n",
       "      <td>806</td>\n",
       "      <td>Precautionary Landing</td>\n",
       "      <td>9/5/02 0:00</td>\n",
       "      <td>No damage</td>\n",
       "      <td>...</td>\n",
       "      <td>False</td>\n",
       "      <td>NOTAM WARNING. 26 BIRDS HIT THE A/C, FORCING A...</td>\n",
       "      <td>Small</td>\n",
       "      <td>Some Cloud</td>\n",
       "      <td>European starling</td>\n",
       "      <td>Y</td>\n",
       "      <td>0</td>\n",
       "      <td>50</td>\n",
       "      <td>0</td>\n",
       "      <td>Yes</td>\n",
       "    </tr>\n",
       "    <tr>\n",
       "      <th>4</th>\n",
       "      <td>219878</td>\n",
       "      <td>Airplane</td>\n",
       "      <td>NORFOLK INTL</td>\n",
       "      <td>(30, 50]</td>\n",
       "      <td>CL-RJ100/200</td>\n",
       "      <td>Over 100</td>\n",
       "      <td>942</td>\n",
       "      <td>NaN</td>\n",
       "      <td>6/23/03 0:00</td>\n",
       "      <td>No damage</td>\n",
       "      <td>...</td>\n",
       "      <td>False</td>\n",
       "      <td>NO DMG REPTD.</td>\n",
       "      <td>Small</td>\n",
       "      <td>No Cloud</td>\n",
       "      <td>European starling</td>\n",
       "      <td>N</td>\n",
       "      <td>0</td>\n",
       "      <td>50</td>\n",
       "      <td>0</td>\n",
       "      <td>No</td>\n",
       "    </tr>\n",
       "  </tbody>\n",
       "</table>\n",
       "<p>5 rows × 26 columns</p>\n",
       "</div>"
      ],
      "text/plain": [
       "   RecordID AircraftType                  AirportName   AltitudeBin  \\\n",
       "0    202152     Airplane                 LAGUARDIA NY  (1000, 2000]   \n",
       "1    208159     Airplane  DALLAS/FORT WORTH INTL ARPT       (-1, 0]   \n",
       "2    207601     Airplane            LAKEFRONT AIRPORT      (30, 50]   \n",
       "3    215953     Airplane          SEATTLE-TACOMA INTL      (30, 50]   \n",
       "4    219878     Airplane                 NORFOLK INTL      (30, 50]   \n",
       "\n",
       "      MakeModel NumberStruck  NumberStruckActual                 Effect  \\\n",
       "0     B-737-400     Over 100                 859       Engine Shut Down   \n",
       "1         MD-80     Over 100                 424                    NaN   \n",
       "2         C-500     Over 100                 261                    NaN   \n",
       "3     B-737-400     Over 100                 806  Precautionary Landing   \n",
       "4  CL-RJ100/200     Over 100                 942                    NaN   \n",
       "\n",
       "      FlightDate         Damage  ... RemainsSentToSmithsonian  \\\n",
       "0  11/23/00 0:00  Caused damage  ...                    False   \n",
       "1   7/25/01 0:00  Caused damage  ...                    False   \n",
       "2   9/14/01 0:00      No damage  ...                    False   \n",
       "3    9/5/02 0:00      No damage  ...                    False   \n",
       "4   6/23/03 0:00      No damage  ...                    False   \n",
       "\n",
       "                                             Remarks WildlifeSize  \\\n",
       "0  FLT 753. PILOT REPTD A HUNDRED BIRDS ON UNKN T...       Medium   \n",
       "1  102 CARCASSES FOUND. 1 LDG LIGHT ON NOSE GEAR ...        Small   \n",
       "2  FLEW UNDER A VERY LARGE FLOCK OF BIRDS OVER AP...        Small   \n",
       "3  NOTAM WARNING. 26 BIRDS HIT THE A/C, FORCING A...        Small   \n",
       "4                                      NO DMG REPTD.        Small   \n",
       "\n",
       "  ConditionsSky        WildlifeSpecies  PilotWarned    Cost Altitude  \\\n",
       "0      No Cloud  Unknown bird - medium            N  30,736     1500   \n",
       "1    Some Cloud            Rock pigeon            Y       0        0   \n",
       "2      No Cloud      European starling            N       0       50   \n",
       "3    Some Cloud      European starling            Y       0       50   \n",
       "4      No Cloud      European starling            N       0       50   \n",
       "\n",
       "  PeopleInjured IsAircraftLarge?  \n",
       "0             0              Yes  \n",
       "1             0               No  \n",
       "2             0               No  \n",
       "3             0              Yes  \n",
       "4             0               No  \n",
       "\n",
       "[5 rows x 26 columns]"
      ]
     },
     "execution_count": 580,
     "metadata": {},
     "output_type": "execute_result"
    }
   ],
   "source": [
    "df.head(5)"
   ]
  },
  {
   "cell_type": "code",
   "execution_count": 581,
   "id": "3737c031-6781-43ff-ba8e-fc1e9ec79a3b",
   "metadata": {},
   "outputs": [
    {
     "data": {
      "text/plain": [
       "(25429, 26)"
      ]
     },
     "execution_count": 581,
     "metadata": {},
     "output_type": "execute_result"
    }
   ],
   "source": [
    "df.shape"
   ]
  },
  {
   "cell_type": "code",
   "execution_count": 582,
   "id": "a4c192c4-b33f-4c57-a1b0-2610f1ed1e09",
   "metadata": {},
   "outputs": [
    {
     "name": "stdout",
     "output_type": "stream",
     "text": [
      "<class 'pandas.core.frame.DataFrame'>\n",
      "RangeIndex: 25429 entries, 0 to 25428\n",
      "Data columns (total 26 columns):\n",
      " #   Column                    Non-Null Count  Dtype \n",
      "---  ------                    --------------  ----- \n",
      " 0   RecordID                  25429 non-null  int64 \n",
      " 1   AircraftType              25429 non-null  object\n",
      " 2   AirportName               25429 non-null  object\n",
      " 3   AltitudeBin               25429 non-null  object\n",
      " 4   MakeModel                 25429 non-null  object\n",
      " 5   NumberStruck              25429 non-null  object\n",
      " 6   NumberStruckActual        25429 non-null  int64 \n",
      " 7   Effect                    2078 non-null   object\n",
      " 8   FlightDate                25429 non-null  object\n",
      " 9   Damage                    25429 non-null  object\n",
      " 10  Engines                   25195 non-null  object\n",
      " 11  Operator                  25429 non-null  object\n",
      " 12  OriginState               24980 non-null  object\n",
      " 13  FlightPhase               25429 non-null  object\n",
      " 14  ConditionsPrecipitation   2015 non-null   object\n",
      " 15  RemainsCollected?         25429 non-null  bool  \n",
      " 16  RemainsSentToSmithsonian  25429 non-null  bool  \n",
      " 17  Remarks                   20668 non-null  object\n",
      " 18  WildlifeSize              25429 non-null  object\n",
      " 19  ConditionsSky             25429 non-null  object\n",
      " 20  WildlifeSpecies           25429 non-null  object\n",
      " 21  PilotWarned               25429 non-null  object\n",
      " 22  Cost                      25429 non-null  object\n",
      " 23  Altitude                  25429 non-null  int64 \n",
      " 24  PeopleInjured             25429 non-null  int64 \n",
      " 25  IsAircraftLarge?          25429 non-null  object\n",
      "dtypes: bool(2), int64(4), object(20)\n",
      "memory usage: 4.7+ MB\n"
     ]
    }
   ],
   "source": [
    "df.info()"
   ]
  },
  {
   "cell_type": "code",
   "execution_count": 583,
   "id": "de39099c-7c9a-4312-a4f3-936c56976c8e",
   "metadata": {},
   "outputs": [
    {
     "data": {
      "text/plain": [
       "dtype('int64')"
      ]
     },
     "execution_count": 583,
     "metadata": {},
     "output_type": "execute_result"
    }
   ],
   "source": [
    "# Convert 'Cost' variable into integer\n",
    "df.Cost = df.Cost.str.replace(',', '')\n",
    "df.Cost = df.Cost.astype(int)\n",
    "df.Cost.dtype"
   ]
  },
  {
   "cell_type": "code",
   "execution_count": 584,
   "id": "63400917-fbf0-46ae-af97-e3437d2feda2",
   "metadata": {},
   "outputs": [
    {
     "data": {
      "text/plain": [
       "Effect\n",
       "NaN                      23351\n",
       "Precautionary Landing     1121\n",
       "Aborted Take-off           479\n",
       "Other                      390\n",
       "Engine Shut Down            88\n",
       "Name: count, dtype: int64"
      ]
     },
     "execution_count": 584,
     "metadata": {},
     "output_type": "execute_result"
    }
   ],
   "source": [
    "df.Effect.value_counts(dropna=False)"
   ]
  },
  {
   "cell_type": "markdown",
   "id": "fa5bc66d-2fb4-4618-ad85-6277769c30f3",
   "metadata": {},
   "source": [
    "#### 1. What types of aircrafts are involved in bird strikes?\n",
    "#### 2. What kinds of birds are involved in bird strikes?\n",
    "#### 3. What are the flight statuses during bird strikes?\n",
    "#### 4. What are the geological locations of bird strikes?\n",
    "#### 5. What times do bird strikes occur?\n",
    "#### 6. What are the consequences of bird strikes?"
   ]
  },
  {
   "cell_type": "code",
   "execution_count": 585,
   "id": "1e611703-5386-4866-bfd9-cbc2b255ed3c",
   "metadata": {},
   "outputs": [
    {
     "data": {
      "text/plain": [
       "ConditionsPrecipitation\n",
       "NaN                23414\n",
       "Rain                1353\n",
       "Fog                  475\n",
       "Snow                  89\n",
       "Fog, Rain             85\n",
       "Rain, Snow             6\n",
       "Fog, Snow              4\n",
       "Fog, Rain, Snow        3\n",
       "Name: count, dtype: int64"
      ]
     },
     "execution_count": 585,
     "metadata": {},
     "output_type": "execute_result"
    }
   ],
   "source": [
    "df.ConditionsPrecipitation.value_counts(dropna=False)"
   ]
  },
  {
   "cell_type": "code",
   "execution_count": 586,
   "id": "d75dcb3f-115e-43c7-8313-bfae87154e77",
   "metadata": {},
   "outputs": [
    {
     "data": {
      "text/html": [
       "<div>\n",
       "<style scoped>\n",
       "    .dataframe tbody tr th:only-of-type {\n",
       "        vertical-align: middle;\n",
       "    }\n",
       "\n",
       "    .dataframe tbody tr th {\n",
       "        vertical-align: top;\n",
       "    }\n",
       "\n",
       "    .dataframe thead th {\n",
       "        text-align: right;\n",
       "    }\n",
       "</style>\n",
       "<table border=\"1\" class=\"dataframe\">\n",
       "  <thead>\n",
       "    <tr style=\"text-align: right;\">\n",
       "      <th></th>\n",
       "      <th>NumberStruckActual</th>\n",
       "      <th>Cost</th>\n",
       "      <th>Altitude</th>\n",
       "      <th>PeopleInjured</th>\n",
       "    </tr>\n",
       "  </thead>\n",
       "  <tbody>\n",
       "    <tr>\n",
       "      <th>count</th>\n",
       "      <td>25429.000000</td>\n",
       "      <td>2.542900e+04</td>\n",
       "      <td>25429.000000</td>\n",
       "      <td>25429.000000</td>\n",
       "    </tr>\n",
       "    <tr>\n",
       "      <th>mean</th>\n",
       "      <td>2.699634</td>\n",
       "      <td>5.566368e+03</td>\n",
       "      <td>799.028432</td>\n",
       "      <td>0.000826</td>\n",
       "    </tr>\n",
       "    <tr>\n",
       "      <th>std</th>\n",
       "      <td>12.825804</td>\n",
       "      <td>1.222388e+05</td>\n",
       "      <td>1740.079843</td>\n",
       "      <td>0.047339</td>\n",
       "    </tr>\n",
       "    <tr>\n",
       "      <th>min</th>\n",
       "      <td>1.000000</td>\n",
       "      <td>0.000000e+00</td>\n",
       "      <td>0.000000</td>\n",
       "      <td>0.000000</td>\n",
       "    </tr>\n",
       "    <tr>\n",
       "      <th>25%</th>\n",
       "      <td>1.000000</td>\n",
       "      <td>0.000000e+00</td>\n",
       "      <td>0.000000</td>\n",
       "      <td>0.000000</td>\n",
       "    </tr>\n",
       "    <tr>\n",
       "      <th>50%</th>\n",
       "      <td>1.000000</td>\n",
       "      <td>0.000000e+00</td>\n",
       "      <td>50.000000</td>\n",
       "      <td>0.000000</td>\n",
       "    </tr>\n",
       "    <tr>\n",
       "      <th>75%</th>\n",
       "      <td>1.000000</td>\n",
       "      <td>0.000000e+00</td>\n",
       "      <td>700.000000</td>\n",
       "      <td>0.000000</td>\n",
       "    </tr>\n",
       "    <tr>\n",
       "      <th>max</th>\n",
       "      <td>942.000000</td>\n",
       "      <td>1.239775e+07</td>\n",
       "      <td>18000.000000</td>\n",
       "      <td>6.000000</td>\n",
       "    </tr>\n",
       "  </tbody>\n",
       "</table>\n",
       "</div>"
      ],
      "text/plain": [
       "       NumberStruckActual          Cost      Altitude  PeopleInjured\n",
       "count        25429.000000  2.542900e+04  25429.000000   25429.000000\n",
       "mean             2.699634  5.566368e+03    799.028432       0.000826\n",
       "std             12.825804  1.222388e+05   1740.079843       0.047339\n",
       "min              1.000000  0.000000e+00      0.000000       0.000000\n",
       "25%              1.000000  0.000000e+00      0.000000       0.000000\n",
       "50%              1.000000  0.000000e+00     50.000000       0.000000\n",
       "75%              1.000000  0.000000e+00    700.000000       0.000000\n",
       "max            942.000000  1.239775e+07  18000.000000       6.000000"
      ]
     },
     "execution_count": 586,
     "metadata": {},
     "output_type": "execute_result"
    }
   ],
   "source": [
    "df.drop(['RecordID'], axis=1).describe()"
   ]
  },
  {
   "cell_type": "code",
   "execution_count": 587,
   "id": "36160070-4e01-4e39-b1c8-beb567a402ad",
   "metadata": {},
   "outputs": [
    {
     "data": {
      "text/plain": [
       "Damage\n",
       "No damage        22975\n",
       "Caused damage     2454\n",
       "Name: count, dtype: int64"
      ]
     },
     "execution_count": 587,
     "metadata": {},
     "output_type": "execute_result"
    }
   ],
   "source": [
    "df.Damage.value_counts()"
   ]
  },
  {
   "cell_type": "markdown",
   "id": "2d4dbb23-ceb5-45e4-96c8-fef9eb8b1d67",
   "metadata": {},
   "source": [
    "The data is fairly unbalanced due to a significant difference between undamaged and damage strikes. Therefore, the descriptive analysis will be between total strikes and damaging strikes.  "
   ]
  },
  {
   "cell_type": "code",
   "execution_count": 588,
   "id": "60886f66-44f4-4339-896f-40af23d5b745",
   "metadata": {},
   "outputs": [
    {
     "data": {
      "text/html": [
       "<div>\n",
       "<style scoped>\n",
       "    .dataframe tbody tr th:only-of-type {\n",
       "        vertical-align: middle;\n",
       "    }\n",
       "\n",
       "    .dataframe tbody tr th {\n",
       "        vertical-align: top;\n",
       "    }\n",
       "\n",
       "    .dataframe thead th {\n",
       "        text-align: right;\n",
       "    }\n",
       "</style>\n",
       "<table border=\"1\" class=\"dataframe\">\n",
       "  <thead>\n",
       "    <tr style=\"text-align: right;\">\n",
       "      <th></th>\n",
       "      <th>RecordID</th>\n",
       "      <th>AircraftType</th>\n",
       "      <th>AirportName</th>\n",
       "      <th>AltitudeBin</th>\n",
       "      <th>MakeModel</th>\n",
       "      <th>NumberStruck</th>\n",
       "      <th>NumberStruckActual</th>\n",
       "      <th>Effect</th>\n",
       "      <th>FlightDate</th>\n",
       "      <th>Damage</th>\n",
       "      <th>...</th>\n",
       "      <th>RemainsSentToSmithsonian</th>\n",
       "      <th>Remarks</th>\n",
       "      <th>WildlifeSize</th>\n",
       "      <th>ConditionsSky</th>\n",
       "      <th>WildlifeSpecies</th>\n",
       "      <th>PilotWarned</th>\n",
       "      <th>Cost</th>\n",
       "      <th>Altitude</th>\n",
       "      <th>PeopleInjured</th>\n",
       "      <th>IsAircraftLarge?</th>\n",
       "    </tr>\n",
       "  </thead>\n",
       "  <tbody>\n",
       "    <tr>\n",
       "      <th>0</th>\n",
       "      <td>202152</td>\n",
       "      <td>Airplane</td>\n",
       "      <td>LAGUARDIA NY</td>\n",
       "      <td>(1000, 2000]</td>\n",
       "      <td>B-737-400</td>\n",
       "      <td>Over 100</td>\n",
       "      <td>859</td>\n",
       "      <td>Engine Shut Down</td>\n",
       "      <td>11/23/00 0:00</td>\n",
       "      <td>Caused damage</td>\n",
       "      <td>...</td>\n",
       "      <td>False</td>\n",
       "      <td>FLT 753. PILOT REPTD A HUNDRED BIRDS ON UNKN T...</td>\n",
       "      <td>Medium</td>\n",
       "      <td>No Cloud</td>\n",
       "      <td>Unknown bird - medium</td>\n",
       "      <td>N</td>\n",
       "      <td>30736</td>\n",
       "      <td>1500</td>\n",
       "      <td>0</td>\n",
       "      <td>Yes</td>\n",
       "    </tr>\n",
       "    <tr>\n",
       "      <th>1</th>\n",
       "      <td>208159</td>\n",
       "      <td>Airplane</td>\n",
       "      <td>DALLAS/FORT WORTH INTL ARPT</td>\n",
       "      <td>(-1, 0]</td>\n",
       "      <td>MD-80</td>\n",
       "      <td>Over 100</td>\n",
       "      <td>424</td>\n",
       "      <td>NaN</td>\n",
       "      <td>7/25/01 0:00</td>\n",
       "      <td>Caused damage</td>\n",
       "      <td>...</td>\n",
       "      <td>False</td>\n",
       "      <td>102 CARCASSES FOUND. 1 LDG LIGHT ON NOSE GEAR ...</td>\n",
       "      <td>Small</td>\n",
       "      <td>Some Cloud</td>\n",
       "      <td>Rock pigeon</td>\n",
       "      <td>Y</td>\n",
       "      <td>0</td>\n",
       "      <td>0</td>\n",
       "      <td>0</td>\n",
       "      <td>No</td>\n",
       "    </tr>\n",
       "    <tr>\n",
       "      <th>6</th>\n",
       "      <td>221697</td>\n",
       "      <td>Airplane</td>\n",
       "      <td>NEW CASTLE COUNTY</td>\n",
       "      <td>(100, 200]</td>\n",
       "      <td>LEARJET-25</td>\n",
       "      <td>Over 100</td>\n",
       "      <td>227</td>\n",
       "      <td>Other</td>\n",
       "      <td>8/17/03 0:00</td>\n",
       "      <td>Caused damage</td>\n",
       "      <td>...</td>\n",
       "      <td>True</td>\n",
       "      <td>NaN</td>\n",
       "      <td>Small</td>\n",
       "      <td>No Cloud</td>\n",
       "      <td>European starling</td>\n",
       "      <td>N</td>\n",
       "      <td>1481711</td>\n",
       "      <td>150</td>\n",
       "      <td>0</td>\n",
       "      <td>No</td>\n",
       "    </tr>\n",
       "    <tr>\n",
       "      <th>7</th>\n",
       "      <td>236635</td>\n",
       "      <td>Airplane</td>\n",
       "      <td>WASHINGTON DULLES INTL ARPT</td>\n",
       "      <td>(50, 100]</td>\n",
       "      <td>A-320</td>\n",
       "      <td>Over 100</td>\n",
       "      <td>320</td>\n",
       "      <td>Other</td>\n",
       "      <td>3/1/06 0:00</td>\n",
       "      <td>Caused damage</td>\n",
       "      <td>...</td>\n",
       "      <td>False</td>\n",
       "      <td>WS ASSISTED IN CLEAN-UP OF 273 STARLINGS AND 1...</td>\n",
       "      <td>Small</td>\n",
       "      <td>Some Cloud</td>\n",
       "      <td>European starling</td>\n",
       "      <td>Y</td>\n",
       "      <td>1483141</td>\n",
       "      <td>100</td>\n",
       "      <td>0</td>\n",
       "      <td>No</td>\n",
       "    </tr>\n",
       "    <tr>\n",
       "      <th>11</th>\n",
       "      <td>205958</td>\n",
       "      <td>Airplane</td>\n",
       "      <td>CHICAGO O'HARE INTL ARPT</td>\n",
       "      <td>(1000, 2000]</td>\n",
       "      <td>FOKKER F100</td>\n",
       "      <td>2 to 10</td>\n",
       "      <td>9</td>\n",
       "      <td>NaN</td>\n",
       "      <td>1/20/00 0:00</td>\n",
       "      <td>Caused damage</td>\n",
       "      <td>...</td>\n",
       "      <td>False</td>\n",
       "      <td>JUST OUTSIDE OF WILLT ON VISUAL APCH, WE FLEW ...</td>\n",
       "      <td>Large</td>\n",
       "      <td>No Cloud</td>\n",
       "      <td>Canada goose</td>\n",
       "      <td>N</td>\n",
       "      <td>0</td>\n",
       "      <td>1700</td>\n",
       "      <td>0</td>\n",
       "      <td>No</td>\n",
       "    </tr>\n",
       "  </tbody>\n",
       "</table>\n",
       "<p>5 rows × 26 columns</p>\n",
       "</div>"
      ],
      "text/plain": [
       "    RecordID AircraftType                  AirportName   AltitudeBin  \\\n",
       "0     202152     Airplane                 LAGUARDIA NY  (1000, 2000]   \n",
       "1     208159     Airplane  DALLAS/FORT WORTH INTL ARPT       (-1, 0]   \n",
       "6     221697     Airplane            NEW CASTLE COUNTY    (100, 200]   \n",
       "7     236635     Airplane  WASHINGTON DULLES INTL ARPT     (50, 100]   \n",
       "11    205958     Airplane     CHICAGO O'HARE INTL ARPT  (1000, 2000]   \n",
       "\n",
       "      MakeModel NumberStruck  NumberStruckActual            Effect  \\\n",
       "0     B-737-400     Over 100                 859  Engine Shut Down   \n",
       "1         MD-80     Over 100                 424               NaN   \n",
       "6    LEARJET-25     Over 100                 227             Other   \n",
       "7         A-320     Over 100                 320             Other   \n",
       "11  FOKKER F100      2 to 10                   9               NaN   \n",
       "\n",
       "       FlightDate         Damage  ... RemainsSentToSmithsonian  \\\n",
       "0   11/23/00 0:00  Caused damage  ...                    False   \n",
       "1    7/25/01 0:00  Caused damage  ...                    False   \n",
       "6    8/17/03 0:00  Caused damage  ...                     True   \n",
       "7     3/1/06 0:00  Caused damage  ...                    False   \n",
       "11   1/20/00 0:00  Caused damage  ...                    False   \n",
       "\n",
       "                                              Remarks WildlifeSize  \\\n",
       "0   FLT 753. PILOT REPTD A HUNDRED BIRDS ON UNKN T...       Medium   \n",
       "1   102 CARCASSES FOUND. 1 LDG LIGHT ON NOSE GEAR ...        Small   \n",
       "6                                                 NaN        Small   \n",
       "7   WS ASSISTED IN CLEAN-UP OF 273 STARLINGS AND 1...        Small   \n",
       "11  JUST OUTSIDE OF WILLT ON VISUAL APCH, WE FLEW ...        Large   \n",
       "\n",
       "   ConditionsSky        WildlifeSpecies  PilotWarned     Cost Altitude  \\\n",
       "0       No Cloud  Unknown bird - medium            N    30736     1500   \n",
       "1     Some Cloud            Rock pigeon            Y        0        0   \n",
       "6       No Cloud      European starling            N  1481711      150   \n",
       "7     Some Cloud      European starling            Y  1483141      100   \n",
       "11      No Cloud           Canada goose            N        0     1700   \n",
       "\n",
       "   PeopleInjured IsAircraftLarge?  \n",
       "0              0              Yes  \n",
       "1              0               No  \n",
       "6              0               No  \n",
       "7              0               No  \n",
       "11             0               No  \n",
       "\n",
       "[5 rows x 26 columns]"
      ]
     },
     "execution_count": 588,
     "metadata": {},
     "output_type": "execute_result"
    }
   ],
   "source": [
    "# Table with only damaging strikes\n",
    "df['Cost'] = pd.to_numeric(df['Cost'], errors='coerce') # Convert the 'Cost' column to numeric values, replacing any non-numeric entries with NaN\n",
    "df_dmg = df[(df['Damage'] != 'No damage') | (df['Cost'] > 0)]\n",
    "df_dmg.head(5)"
   ]
  },
  {
   "cell_type": "markdown",
   "id": "89adec56-df86-4343-8271-029ca9a3cc5c",
   "metadata": {},
   "source": [
    "# Descriptive Statistics"
   ]
  },
  {
   "cell_type": "markdown",
   "id": "c7d5bf6d-5296-4c0e-b538-b9f759567237",
   "metadata": {},
   "source": [
    "## 1. What types of aircrafts are involved in bird strikes?"
   ]
  },
  {
   "cell_type": "code",
   "execution_count": 589,
   "id": "6065298d-db76-4c04-8269-199687c8b3c1",
   "metadata": {},
   "outputs": [
    {
     "data": {
      "text/plain": [
       "Engines\n",
       "2    23002\n",
       "1     1240\n",
       "3      564\n",
       "4      388\n",
       "C        1\n",
       "Name: count, dtype: int64"
      ]
     },
     "execution_count": 589,
     "metadata": {},
     "output_type": "execute_result"
    }
   ],
   "source": [
    "df.Engines.value_counts()"
   ]
  },
  {
   "cell_type": "code",
   "execution_count": 590,
   "id": "f8f96b54-49f2-4c9f-a1e4-e523f0f69dd5",
   "metadata": {},
   "outputs": [
    {
     "data": {
      "text/html": [
       "<div>\n",
       "<style scoped>\n",
       "    .dataframe tbody tr th:only-of-type {\n",
       "        vertical-align: middle;\n",
       "    }\n",
       "\n",
       "    .dataframe tbody tr th {\n",
       "        vertical-align: top;\n",
       "    }\n",
       "\n",
       "    .dataframe thead th {\n",
       "        text-align: right;\n",
       "    }\n",
       "</style>\n",
       "<table border=\"1\" class=\"dataframe\">\n",
       "  <thead>\n",
       "    <tr style=\"text-align: right;\">\n",
       "      <th></th>\n",
       "      <th>Engines</th>\n",
       "      <th>count</th>\n",
       "    </tr>\n",
       "  </thead>\n",
       "  <tbody>\n",
       "    <tr>\n",
       "      <th>0</th>\n",
       "      <td>2</td>\n",
       "      <td>23002</td>\n",
       "    </tr>\n",
       "    <tr>\n",
       "      <th>1</th>\n",
       "      <td>1</td>\n",
       "      <td>1240</td>\n",
       "    </tr>\n",
       "    <tr>\n",
       "      <th>2</th>\n",
       "      <td>3</td>\n",
       "      <td>564</td>\n",
       "    </tr>\n",
       "    <tr>\n",
       "      <th>3</th>\n",
       "      <td>4</td>\n",
       "      <td>388</td>\n",
       "    </tr>\n",
       "  </tbody>\n",
       "</table>\n",
       "</div>"
      ],
      "text/plain": [
       "  Engines  count\n",
       "0       2  23002\n",
       "1       1   1240\n",
       "2       3    564\n",
       "3       4    388"
      ]
     },
     "execution_count": 590,
     "metadata": {},
     "output_type": "execute_result"
    }
   ],
   "source": [
    "# Strike frequency by aircraft engine count\n",
    "engine = df[df.Engines != 'C'].Engines.value_counts()\n",
    "engine = pd.DataFrame(engine).reset_index()\n",
    "engine"
   ]
  },
  {
   "cell_type": "code",
   "execution_count": 591,
   "id": "39878be1-2c32-4469-87e2-3fbbd434f64c",
   "metadata": {},
   "outputs": [
    {
     "data": {
      "image/png": "[encoded data removed]",
      "text/plain": [
       "<Figure size 640x480 with 1 Axes>"
      ]
     },
     "metadata": {},
     "output_type": "display_data"
    }
   ],
   "source": [
    "# Plotting Strike Frequency vs. Engine Count\n",
    "sns.barplot(engine,\n",
    "            x = 'Engines',\n",
    "            y = 'count')\n",
    "plt.title('All Strike Frequency by Engine Count')\n",
    "plt.show();"
   ]
  },
  {
   "cell_type": "code",
   "execution_count": 592,
   "id": "7b09aba6-4327-4692-83ed-976216ee1d58",
   "metadata": {},
   "outputs": [],
   "source": [
    "# Damaging strike frequency by aircraft engine count\n",
    "engine_dmg = df_dmg[df_dmg.Engines != 'C'].Engines.value_counts()\n",
    "engine_dmg = pd.DataFrame(engine_dmg).reset_index()"
   ]
  },
  {
   "cell_type": "code",
   "execution_count": 593,
   "id": "459be11d-f1c2-4f4e-b6b7-de0cfbc2b912",
   "metadata": {},
   "outputs": [
    {
     "data": {
      "image/png": "[encoded data removed]",
      "text/plain": [
       "<Figure size 640x480 with 1 Axes>"
      ]
     },
     "metadata": {},
     "output_type": "display_data"
    }
   ],
   "source": [
    "# Plotting the frequency of damaging strikes by engine count\n",
    "sns.barplot(engine_dmg,\n",
    "            x = 'Engines',\n",
    "            y = 'count')\n",
    "plt.title('Damaging Strike Frequency by Engine Count')\n",
    "plt.show();"
   ]
  },
  {
   "cell_type": "markdown",
   "id": "459fc9a8-56c2-4b3f-9385-326cfa024ad2",
   "metadata": {},
   "source": [
    "Aircraft with two engines experience the highest number of both total and damaging strikes, likely due to their abundance. In comparison to three- and four-engine aircraft, single-engine aircraft are disproportionately affected by damaging strikes. Without a backup engine, single-engine aircraft may be more vulnerable to damage, once struck. "
   ]
  },
  {
   "cell_type": "code",
   "execution_count": 594,
   "id": "4374e18b-9e03-48a6-bb84-075ea999290c",
   "metadata": {},
   "outputs": [
    {
     "data": {
      "text/html": [
       "<div>\n",
       "<style scoped>\n",
       "    .dataframe tbody tr th:only-of-type {\n",
       "        vertical-align: middle;\n",
       "    }\n",
       "\n",
       "    .dataframe tbody tr th {\n",
       "        vertical-align: top;\n",
       "    }\n",
       "\n",
       "    .dataframe thead th {\n",
       "        text-align: right;\n",
       "    }\n",
       "</style>\n",
       "<table border=\"1\" class=\"dataframe\">\n",
       "  <thead>\n",
       "    <tr style=\"text-align: right;\">\n",
       "      <th></th>\n",
       "      <th>Engines</th>\n",
       "      <th>count</th>\n",
       "      <th>count_dmg</th>\n",
       "    </tr>\n",
       "  </thead>\n",
       "  <tbody>\n",
       "    <tr>\n",
       "      <th>0</th>\n",
       "      <td>2</td>\n",
       "      <td>23002</td>\n",
       "      <td>2342</td>\n",
       "    </tr>\n",
       "    <tr>\n",
       "      <th>1</th>\n",
       "      <td>1</td>\n",
       "      <td>1240</td>\n",
       "      <td>336</td>\n",
       "    </tr>\n",
       "    <tr>\n",
       "      <th>2</th>\n",
       "      <td>3</td>\n",
       "      <td>564</td>\n",
       "      <td>77</td>\n",
       "    </tr>\n",
       "    <tr>\n",
       "      <th>3</th>\n",
       "      <td>4</td>\n",
       "      <td>388</td>\n",
       "      <td>52</td>\n",
       "    </tr>\n",
       "  </tbody>\n",
       "</table>\n",
       "</div>"
      ],
      "text/plain": [
       "  Engines  count  count_dmg\n",
       "0       2  23002       2342\n",
       "1       1   1240        336\n",
       "2       3    564         77\n",
       "3       4    388         52"
      ]
     },
     "execution_count": 594,
     "metadata": {},
     "output_type": "execute_result"
    }
   ],
   "source": [
    "# Combing all strike count and damaging strike count into a table\n",
    "engine_merged = pd.merge(engine, engine_dmg, left_on = ['Engines'], right_on = ['Engines'], suffixes = ('','_dmg'))\n",
    "engine_merged"
   ]
  },
  {
   "cell_type": "code",
   "execution_count": 595,
   "id": "fc2db80a-d1fd-4cc3-8dbb-2187920e6d72",
   "metadata": {},
   "outputs": [],
   "source": [
    "# Calculating damaging strike proportion\n",
    "engine_merged['Damage Rate'] = engine_merged['count_dmg'] / engine_merged['count']"
   ]
  },
  {
   "cell_type": "code",
   "execution_count": 596,
   "id": "2b5a6a47-ef8f-4b10-857e-19b3a3ab193c",
   "metadata": {},
   "outputs": [
    {
     "data": {
      "image/png": "[encoded data removed]",
      "text/plain": [
       "<Figure size 640x480 with 1 Axes>"
      ]
     },
     "metadata": {},
     "output_type": "display_data"
    }
   ],
   "source": [
    "# Plotting Strike Rate vs. Engine Count\n",
    "sns.barplot(engine_merged,\n",
    "            x = 'Engines',\n",
    "            y = 'Damage Rate')\n",
    "plt.title('Damage Rate by Engine Count')\n",
    "plt.show();"
   ]
  },
  {
   "cell_type": "markdown",
   "id": "47ca7356-5fde-4e92-aafb-8f9f03766e5d",
   "metadata": {},
   "source": [
    "The bar plot above illustrates the rate of damage occurring once an aircraft is struck. It indicates that single-engine airplanes are the most vulnerable to damage when struck."
   ]
  },
  {
   "cell_type": "markdown",
   "id": "5fafe6b2-187d-4ec1-8394-da6135a6dce5",
   "metadata": {},
   "source": [
    "## What kinds of birds are involved in bird strikes?"
   ]
  },
  {
   "cell_type": "markdown",
   "id": "96a03c56-5993-40f1-9803-bdadd8f9007a",
   "metadata": {},
   "source": [
    "Analyze bird species and sizes"
   ]
  },
  {
   "cell_type": "code",
   "execution_count": 597,
   "id": "6555f29e-f5ec-4439-98ac-c8e582f4fb8d",
   "metadata": {},
   "outputs": [
    {
     "data": {
      "text/html": [
       "<div>\n",
       "<style scoped>\n",
       "    .dataframe tbody tr th:only-of-type {\n",
       "        vertical-align: middle;\n",
       "    }\n",
       "\n",
       "    .dataframe tbody tr th {\n",
       "        vertical-align: top;\n",
       "    }\n",
       "\n",
       "    .dataframe thead th {\n",
       "        text-align: right;\n",
       "    }\n",
       "</style>\n",
       "<table border=\"1\" class=\"dataframe\">\n",
       "  <thead>\n",
       "    <tr style=\"text-align: right;\">\n",
       "      <th></th>\n",
       "      <th>WildlifeSpecies</th>\n",
       "      <th>WildlifeSize</th>\n",
       "      <th>count</th>\n",
       "    </tr>\n",
       "  </thead>\n",
       "  <tbody>\n",
       "    <tr>\n",
       "      <th>312</th>\n",
       "      <td>Unknown bird - small</td>\n",
       "      <td>Small</td>\n",
       "      <td>10436</td>\n",
       "    </tr>\n",
       "    <tr>\n",
       "      <th>311</th>\n",
       "      <td>Unknown bird - medium</td>\n",
       "      <td>Medium</td>\n",
       "      <td>4296</td>\n",
       "    </tr>\n",
       "    <tr>\n",
       "      <th>195</th>\n",
       "      <td>Mourning dove</td>\n",
       "      <td>Small</td>\n",
       "      <td>897</td>\n",
       "    </tr>\n",
       "    <tr>\n",
       "      <th>115</th>\n",
       "      <td>European starling</td>\n",
       "      <td>Small</td>\n",
       "      <td>885</td>\n",
       "    </tr>\n",
       "    <tr>\n",
       "      <th>309</th>\n",
       "      <td>Unknown bird - large</td>\n",
       "      <td>Large</td>\n",
       "      <td>793</td>\n",
       "    </tr>\n",
       "    <tr>\n",
       "      <th>264</th>\n",
       "      <td>Rock pigeon</td>\n",
       "      <td>Small</td>\n",
       "      <td>592</td>\n",
       "    </tr>\n",
       "    <tr>\n",
       "      <th>27</th>\n",
       "      <td>Barn swallow</td>\n",
       "      <td>Small</td>\n",
       "      <td>579</td>\n",
       "    </tr>\n",
       "    <tr>\n",
       "      <th>169</th>\n",
       "      <td>Killdeer</td>\n",
       "      <td>Small</td>\n",
       "      <td>470</td>\n",
       "    </tr>\n",
       "    <tr>\n",
       "      <th>11</th>\n",
       "      <td>American kestrel</td>\n",
       "      <td>Small</td>\n",
       "      <td>443</td>\n",
       "    </tr>\n",
       "    <tr>\n",
       "      <th>255</th>\n",
       "      <td>Red-tailed hawk</td>\n",
       "      <td>Medium</td>\n",
       "      <td>409</td>\n",
       "    </tr>\n",
       "  </tbody>\n",
       "</table>\n",
       "</div>"
      ],
      "text/plain": [
       "           WildlifeSpecies WildlifeSize  count\n",
       "312   Unknown bird - small        Small  10436\n",
       "311  Unknown bird - medium       Medium   4296\n",
       "195          Mourning dove        Small    897\n",
       "115      European starling        Small    885\n",
       "309   Unknown bird - large        Large    793\n",
       "264            Rock pigeon        Small    592\n",
       "27            Barn swallow        Small    579\n",
       "169               Killdeer        Small    470\n",
       "11        American kestrel        Small    443\n",
       "255        Red-tailed hawk       Medium    409"
      ]
     },
     "execution_count": 597,
     "metadata": {},
     "output_type": "execute_result"
    }
   ],
   "source": [
    "# top 10 bird species - all strikes\n",
    "species = df.groupby(['WildlifeSpecies', 'WildlifeSize']).size().reset_index(name='count')\n",
    "species = species.sort_values(by='count', ascending=False).head(10)\n",
    "species"
   ]
  },
  {
   "cell_type": "code",
   "execution_count": 598,
   "id": "3612c4f6-1cc1-4e17-b8b3-6c3ccb6290c5",
   "metadata": {},
   "outputs": [
    {
     "data": {
      "text/html": [
       "<div>\n",
       "<style scoped>\n",
       "    .dataframe tbody tr th:only-of-type {\n",
       "        vertical-align: middle;\n",
       "    }\n",
       "\n",
       "    .dataframe tbody tr th {\n",
       "        vertical-align: top;\n",
       "    }\n",
       "\n",
       "    .dataframe thead th {\n",
       "        text-align: right;\n",
       "    }\n",
       "</style>\n",
       "<table border=\"1\" class=\"dataframe\">\n",
       "  <thead>\n",
       "    <tr style=\"text-align: right;\">\n",
       "      <th></th>\n",
       "      <th>WildlifeSpecies</th>\n",
       "      <th>WildlifeSize</th>\n",
       "      <th>count</th>\n",
       "    </tr>\n",
       "  </thead>\n",
       "  <tbody>\n",
       "    <tr>\n",
       "      <th>147</th>\n",
       "      <td>Unknown bird - medium</td>\n",
       "      <td>Medium</td>\n",
       "      <td>573</td>\n",
       "    </tr>\n",
       "    <tr>\n",
       "      <th>148</th>\n",
       "      <td>Unknown bird - small</td>\n",
       "      <td>Small</td>\n",
       "      <td>454</td>\n",
       "    </tr>\n",
       "    <tr>\n",
       "      <th>145</th>\n",
       "      <td>Unknown bird - large</td>\n",
       "      <td>Large</td>\n",
       "      <td>291</td>\n",
       "    </tr>\n",
       "    <tr>\n",
       "      <th>36</th>\n",
       "      <td>Canada goose</td>\n",
       "      <td>Large</td>\n",
       "      <td>215</td>\n",
       "    </tr>\n",
       "    <tr>\n",
       "      <th>117</th>\n",
       "      <td>Red-tailed hawk</td>\n",
       "      <td>Medium</td>\n",
       "      <td>107</td>\n",
       "    </tr>\n",
       "    <tr>\n",
       "      <th>144</th>\n",
       "      <td>Turkey vulture</td>\n",
       "      <td>Large</td>\n",
       "      <td>99</td>\n",
       "    </tr>\n",
       "    <tr>\n",
       "      <th>124</th>\n",
       "      <td>Rock pigeon</td>\n",
       "      <td>Small</td>\n",
       "      <td>88</td>\n",
       "    </tr>\n",
       "    <tr>\n",
       "      <th>158</th>\n",
       "      <td>White-tailed deer</td>\n",
       "      <td>Large</td>\n",
       "      <td>79</td>\n",
       "    </tr>\n",
       "    <tr>\n",
       "      <th>92</th>\n",
       "      <td>Mourning dove</td>\n",
       "      <td>Small</td>\n",
       "      <td>64</td>\n",
       "    </tr>\n",
       "    <tr>\n",
       "      <th>56</th>\n",
       "      <td>European starling</td>\n",
       "      <td>Small</td>\n",
       "      <td>55</td>\n",
       "    </tr>\n",
       "  </tbody>\n",
       "</table>\n",
       "</div>"
      ],
      "text/plain": [
       "           WildlifeSpecies WildlifeSize  count\n",
       "147  Unknown bird - medium       Medium    573\n",
       "148   Unknown bird - small        Small    454\n",
       "145   Unknown bird - large        Large    291\n",
       "36            Canada goose        Large    215\n",
       "117        Red-tailed hawk       Medium    107\n",
       "144         Turkey vulture        Large     99\n",
       "124            Rock pigeon        Small     88\n",
       "158      White-tailed deer        Large     79\n",
       "92           Mourning dove        Small     64\n",
       "56       European starling        Small     55"
      ]
     },
     "execution_count": 598,
     "metadata": {},
     "output_type": "execute_result"
    }
   ],
   "source": [
    "# top 10 bird species - damaging strikes\n",
    "species_dmg = df_dmg.groupby(['WildlifeSpecies', 'WildlifeSize']).size().reset_index(name='count')\n",
    "species_dmg = species_dmg.sort_values(by='count', ascending=False).head(10)\n",
    "species_dmg"
   ]
  },
  {
   "cell_type": "code",
   "execution_count": 599,
   "id": "359b0047-8a7f-476b-9e02-d611fcc45f0e",
   "metadata": {},
   "outputs": [
    {
     "data": {
      "text/html": [
       "<div>\n",
       "<style scoped>\n",
       "    .dataframe tbody tr th:only-of-type {\n",
       "        vertical-align: middle;\n",
       "    }\n",
       "\n",
       "    .dataframe tbody tr th {\n",
       "        vertical-align: top;\n",
       "    }\n",
       "\n",
       "    .dataframe thead th {\n",
       "        text-align: right;\n",
       "    }\n",
       "</style>\n",
       "<table border=\"1\" class=\"dataframe\">\n",
       "  <thead>\n",
       "    <tr style=\"text-align: right;\">\n",
       "      <th></th>\n",
       "      <th>WildlifeSpecies</th>\n",
       "      <th>WildlifeSize</th>\n",
       "      <th>count</th>\n",
       "    </tr>\n",
       "  </thead>\n",
       "  <tbody>\n",
       "    <tr>\n",
       "      <th>147</th>\n",
       "      <td>Unknown bird - medium</td>\n",
       "      <td>Medium</td>\n",
       "      <td>573</td>\n",
       "    </tr>\n",
       "    <tr>\n",
       "      <th>148</th>\n",
       "      <td>Unknown bird - small</td>\n",
       "      <td>Small</td>\n",
       "      <td>454</td>\n",
       "    </tr>\n",
       "    <tr>\n",
       "      <th>145</th>\n",
       "      <td>Unknown bird - large</td>\n",
       "      <td>Large</td>\n",
       "      <td>291</td>\n",
       "    </tr>\n",
       "    <tr>\n",
       "      <th>36</th>\n",
       "      <td>Canada goose</td>\n",
       "      <td>Large</td>\n",
       "      <td>215</td>\n",
       "    </tr>\n",
       "    <tr>\n",
       "      <th>117</th>\n",
       "      <td>Red-tailed hawk</td>\n",
       "      <td>Medium</td>\n",
       "      <td>107</td>\n",
       "    </tr>\n",
       "    <tr>\n",
       "      <th>144</th>\n",
       "      <td>Turkey vulture</td>\n",
       "      <td>Large</td>\n",
       "      <td>99</td>\n",
       "    </tr>\n",
       "    <tr>\n",
       "      <th>124</th>\n",
       "      <td>Rock pigeon</td>\n",
       "      <td>Small</td>\n",
       "      <td>88</td>\n",
       "    </tr>\n",
       "    <tr>\n",
       "      <th>92</th>\n",
       "      <td>Mourning dove</td>\n",
       "      <td>Small</td>\n",
       "      <td>64</td>\n",
       "    </tr>\n",
       "    <tr>\n",
       "      <th>56</th>\n",
       "      <td>European starling</td>\n",
       "      <td>Small</td>\n",
       "      <td>55</td>\n",
       "    </tr>\n",
       "    <tr>\n",
       "      <th>87</th>\n",
       "      <td>Mallard</td>\n",
       "      <td>Medium</td>\n",
       "      <td>48</td>\n",
       "    </tr>\n",
       "  </tbody>\n",
       "</table>\n",
       "</div>"
      ],
      "text/plain": [
       "           WildlifeSpecies WildlifeSize  count\n",
       "147  Unknown bird - medium       Medium    573\n",
       "148   Unknown bird - small        Small    454\n",
       "145   Unknown bird - large        Large    291\n",
       "36            Canada goose        Large    215\n",
       "117        Red-tailed hawk       Medium    107\n",
       "144         Turkey vulture        Large     99\n",
       "124            Rock pigeon        Small     88\n",
       "92           Mourning dove        Small     64\n",
       "56       European starling        Small     55\n",
       "87                 Mallard       Medium     48"
      ]
     },
     "execution_count": 599,
     "metadata": {},
     "output_type": "execute_result"
    }
   ],
   "source": [
    "# Removing unrelated species in top 10 bird species - damaging strikes\n",
    "df_dmg = df_dmg[df_dmg['WildlifeSpecies'] != 'White-tailed deer'] \n",
    "species_dmg = df_dmg.groupby(['WildlifeSpecies', 'WildlifeSize']).size().reset_index(name='count')\n",
    "species_dmg = species_dmg.sort_values(by='count', ascending=False).head(10)\n",
    "species_dmg"
   ]
  },
  {
   "cell_type": "markdown",
   "id": "cf632cbb-c043-44f9-9b55-ada01074b6e3",
   "metadata": {},
   "source": [
    "Comparing the two tables above, damaging strikes predominantly involve larger species compared to all strikes. This trend likely stems from the higher impact larger species can cause upon striking.\n",
    "\n",
    "The tables and graphs below further confirm this observation: strikes that result in damage are primarily attributed to larger species, whereas smaller species account for the majority of overall strikes."
   ]
  },
  {
   "cell_type": "code",
   "execution_count": 600,
   "id": "d8c1adcf-d3b6-41c8-8c4e-bb3478dfa2de",
   "metadata": {},
   "outputs": [
    {
     "data": {
      "text/html": [
       "<div>\n",
       "<style scoped>\n",
       "    .dataframe tbody tr th:only-of-type {\n",
       "        vertical-align: middle;\n",
       "    }\n",
       "\n",
       "    .dataframe tbody tr th {\n",
       "        vertical-align: top;\n",
       "    }\n",
       "\n",
       "    .dataframe thead th {\n",
       "        text-align: right;\n",
       "    }\n",
       "</style>\n",
       "<table border=\"1\" class=\"dataframe\">\n",
       "  <thead>\n",
       "    <tr style=\"text-align: right;\">\n",
       "      <th></th>\n",
       "      <th>WildlifeSize</th>\n",
       "      <th>proportion</th>\n",
       "    </tr>\n",
       "  </thead>\n",
       "  <tbody>\n",
       "    <tr>\n",
       "      <th>0</th>\n",
       "      <td>Small</td>\n",
       "      <td>0.684730</td>\n",
       "    </tr>\n",
       "    <tr>\n",
       "      <th>1</th>\n",
       "      <td>Medium</td>\n",
       "      <td>0.233474</td>\n",
       "    </tr>\n",
       "    <tr>\n",
       "      <th>2</th>\n",
       "      <td>Large</td>\n",
       "      <td>0.081796</td>\n",
       "    </tr>\n",
       "  </tbody>\n",
       "</table>\n",
       "</div>"
      ],
      "text/plain": [
       "  WildlifeSize  proportion\n",
       "0        Small    0.684730\n",
       "1       Medium    0.233474\n",
       "2        Large    0.081796"
      ]
     },
     "execution_count": 600,
     "metadata": {},
     "output_type": "execute_result"
    }
   ],
   "source": [
    "# Size distribution of all strikes\n",
    "size = df.WildlifeSize.value_counts(normalize = True).reset_index()\n",
    "size"
   ]
  },
  {
   "cell_type": "code",
   "execution_count": 601,
   "id": "70c07c2c-f441-4579-8902-621e19e7c75e",
   "metadata": {},
   "outputs": [
    {
     "data": {
      "image/png": "[encoded data removed]",
      "text/plain": [
       "<Figure size 640x480 with 1 Axes>"
      ]
     },
     "metadata": {},
     "output_type": "display_data"
    }
   ],
   "source": [
    "# Plotting the proportion of different bird sizes in all strikes\n",
    "sns.barplot(data = size, \n",
    "            x = 'WildlifeSize',\n",
    "            y = 'proportion'\n",
    "           )\n",
    "plt.title('Proportion of All Strikes by Bird Size');"
   ]
  },
  {
   "cell_type": "code",
   "execution_count": 602,
   "id": "d6c43c74-65d8-4f48-aabd-8cf891671d09",
   "metadata": {},
   "outputs": [
    {
     "data": {
      "text/html": [
       "<div>\n",
       "<style scoped>\n",
       "    .dataframe tbody tr th:only-of-type {\n",
       "        vertical-align: middle;\n",
       "    }\n",
       "\n",
       "    .dataframe tbody tr th {\n",
       "        vertical-align: top;\n",
       "    }\n",
       "\n",
       "    .dataframe thead th {\n",
       "        text-align: right;\n",
       "    }\n",
       "</style>\n",
       "<table border=\"1\" class=\"dataframe\">\n",
       "  <thead>\n",
       "    <tr style=\"text-align: right;\">\n",
       "      <th></th>\n",
       "      <th>WildlifeSize</th>\n",
       "      <th>proportion</th>\n",
       "    </tr>\n",
       "  </thead>\n",
       "  <tbody>\n",
       "    <tr>\n",
       "      <th>0</th>\n",
       "      <td>Medium</td>\n",
       "      <td>0.367089</td>\n",
       "    </tr>\n",
       "    <tr>\n",
       "      <th>1</th>\n",
       "      <td>Small</td>\n",
       "      <td>0.317179</td>\n",
       "    </tr>\n",
       "    <tr>\n",
       "      <th>2</th>\n",
       "      <td>Large</td>\n",
       "      <td>0.315732</td>\n",
       "    </tr>\n",
       "  </tbody>\n",
       "</table>\n",
       "</div>"
      ],
      "text/plain": [
       "  WildlifeSize  proportion\n",
       "0       Medium    0.367089\n",
       "1        Small    0.317179\n",
       "2        Large    0.315732"
      ]
     },
     "execution_count": 602,
     "metadata": {},
     "output_type": "execute_result"
    }
   ],
   "source": [
    "# Size distribution of all damaging strikes\n",
    "size_dmg = df_dmg.WildlifeSize.value_counts(normalize = True).reset_index()\n",
    "size_dmg"
   ]
  },
  {
   "cell_type": "code",
   "execution_count": 603,
   "id": "1ca3b3a4-7977-4b8b-9621-af055216b03c",
   "metadata": {},
   "outputs": [
    {
     "data": {
      "image/png": "[encoded data removed]",
      "text/plain": [
       "<Figure size 640x480 with 1 Axes>"
      ]
     },
     "metadata": {},
     "output_type": "display_data"
    }
   ],
   "source": [
    "# Plotting the proportion of different bird sizes in damaging strikes\n",
    "sns.barplot(data = size_dmg, \n",
    "            x = 'WildlifeSize',\n",
    "            y = 'proportion'\n",
    "           )\n",
    "plt.title('Proportion of Damaging Strikes by Bird Size');"
   ]
  },
  {
   "cell_type": "markdown",
   "id": "b9f88b4f-d0ff-43c8-a1e0-715381df3082",
   "metadata": {},
   "source": [
    "## What is the distribution of costs across different flight phases?"
   ]
  },
  {
   "cell_type": "markdown",
   "id": "6b5f77b2-f9cb-42d8-81ad-7c2b3a27956a",
   "metadata": {},
   "source": [
    "Analyze flight phase and cost"
   ]
  },
  {
   "cell_type": "code",
   "execution_count": 604,
   "id": "65a40030-f29c-4794-987b-492bde9c8bfc",
   "metadata": {},
   "outputs": [
    {
     "data": {
      "text/html": [
       "<div>\n",
       "<style scoped>\n",
       "    .dataframe tbody tr th:only-of-type {\n",
       "        vertical-align: middle;\n",
       "    }\n",
       "\n",
       "    .dataframe tbody tr th {\n",
       "        vertical-align: top;\n",
       "    }\n",
       "\n",
       "    .dataframe thead th {\n",
       "        text-align: right;\n",
       "    }\n",
       "</style>\n",
       "<table border=\"1\" class=\"dataframe\">\n",
       "  <thead>\n",
       "    <tr style=\"text-align: right;\">\n",
       "      <th></th>\n",
       "      <th>FlightPhase</th>\n",
       "      <th>Strike_Count</th>\n",
       "      <th>Average_Cost</th>\n",
       "      <th>Total_Cost</th>\n",
       "    </tr>\n",
       "  </thead>\n",
       "  <tbody>\n",
       "    <tr>\n",
       "      <th>0</th>\n",
       "      <td>Approach</td>\n",
       "      <td>10382</td>\n",
       "      <td>2894.480543</td>\n",
       "      <td>30050497</td>\n",
       "    </tr>\n",
       "    <tr>\n",
       "      <th>1</th>\n",
       "      <td>Climb</td>\n",
       "      <td>4429</td>\n",
       "      <td>13143.659968</td>\n",
       "      <td>58213270</td>\n",
       "    </tr>\n",
       "    <tr>\n",
       "      <th>2</th>\n",
       "      <td>Descent</td>\n",
       "      <td>776</td>\n",
       "      <td>5285.177835</td>\n",
       "      <td>4101298</td>\n",
       "    </tr>\n",
       "    <tr>\n",
       "      <th>3</th>\n",
       "      <td>Landing Roll</td>\n",
       "      <td>5047</td>\n",
       "      <td>3924.148603</td>\n",
       "      <td>19805178</td>\n",
       "    </tr>\n",
       "    <tr>\n",
       "      <th>4</th>\n",
       "      <td>Parked</td>\n",
       "      <td>10</td>\n",
       "      <td>0.000000</td>\n",
       "      <td>0</td>\n",
       "    </tr>\n",
       "    <tr>\n",
       "      <th>5</th>\n",
       "      <td>Take-off run</td>\n",
       "      <td>4711</td>\n",
       "      <td>6220.735513</td>\n",
       "      <td>29305885</td>\n",
       "    </tr>\n",
       "    <tr>\n",
       "      <th>6</th>\n",
       "      <td>Taxi</td>\n",
       "      <td>74</td>\n",
       "      <td>960.135135</td>\n",
       "      <td>71050</td>\n",
       "    </tr>\n",
       "  </tbody>\n",
       "</table>\n",
       "</div>"
      ],
      "text/plain": [
       "    FlightPhase  Strike_Count  Average_Cost  Total_Cost\n",
       "0      Approach         10382   2894.480543    30050497\n",
       "1         Climb          4429  13143.659968    58213270\n",
       "2       Descent           776   5285.177835     4101298\n",
       "3  Landing Roll          5047   3924.148603    19805178\n",
       "4        Parked            10      0.000000           0\n",
       "5  Take-off run          4711   6220.735513    29305885\n",
       "6          Taxi            74    960.135135       71050"
      ]
     },
     "execution_count": 604,
     "metadata": {},
     "output_type": "execute_result"
    }
   ],
   "source": [
    "# Strike count, average cost, and total cost of all strikes by flight phase.\n",
    "phase = df.groupby('FlightPhase').agg(\n",
    "    Strike_Count = ('FlightPhase', 'size'),\n",
    "    Average_Cost = ('Cost', 'mean'),\n",
    "    Total_Cost = ('Cost', 'sum')\n",
    ").reset_index()\n",
    "phase"
   ]
  },
  {
   "cell_type": "code",
   "execution_count": 605,
   "id": "ee06a682-da09-480c-9d42-39e416cfad0c",
   "metadata": {},
   "outputs": [
    {
     "data": {
      "image/png": "[encoded data removed]",
      "text/plain": [
       "<Figure size 640x480 with 1 Axes>"
      ]
     },
     "metadata": {},
     "output_type": "display_data"
    }
   ],
   "source": [
    "# Plotting the proportion of all  strikes by flight phase\n",
    "sns.barplot(data = phase, \n",
    "            x = 'FlightPhase',\n",
    "            y = 'Strike_Count'\n",
    "           )\n",
    "plt.title('Proportion of All Strikes by Flight Phase');\n",
    "plt.xticks(rotation=45)\n",
    "plt.show();"
   ]
  },
  {
   "cell_type": "code",
   "execution_count": 606,
   "id": "4720a566-4479-4090-8ddb-def185ef9e53",
   "metadata": {},
   "outputs": [
    {
     "data": {
      "text/html": [
       "<div>\n",
       "<style scoped>\n",
       "    .dataframe tbody tr th:only-of-type {\n",
       "        vertical-align: middle;\n",
       "    }\n",
       "\n",
       "    .dataframe tbody tr th {\n",
       "        vertical-align: top;\n",
       "    }\n",
       "\n",
       "    .dataframe thead th {\n",
       "        text-align: right;\n",
       "    }\n",
       "</style>\n",
       "<table border=\"1\" class=\"dataframe\">\n",
       "  <thead>\n",
       "    <tr style=\"text-align: right;\">\n",
       "      <th></th>\n",
       "      <th>FlightPhase</th>\n",
       "      <th>Strike_Count</th>\n",
       "      <th>Average_Cost</th>\n",
       "      <th>Total_Cost</th>\n",
       "    </tr>\n",
       "  </thead>\n",
       "  <tbody>\n",
       "    <tr>\n",
       "      <th>0</th>\n",
       "      <td>Approach</td>\n",
       "      <td>1182</td>\n",
       "      <td>25350.672589</td>\n",
       "      <td>29964495</td>\n",
       "    </tr>\n",
       "    <tr>\n",
       "      <th>1</th>\n",
       "      <td>Climb</td>\n",
       "      <td>772</td>\n",
       "      <td>75313.670984</td>\n",
       "      <td>58142154</td>\n",
       "    </tr>\n",
       "    <tr>\n",
       "      <th>2</th>\n",
       "      <td>Descent</td>\n",
       "      <td>172</td>\n",
       "      <td>23844.755814</td>\n",
       "      <td>4101298</td>\n",
       "    </tr>\n",
       "    <tr>\n",
       "      <th>3</th>\n",
       "      <td>Landing Roll</td>\n",
       "      <td>226</td>\n",
       "      <td>16422.101770</td>\n",
       "      <td>3711395</td>\n",
       "    </tr>\n",
       "    <tr>\n",
       "      <th>4</th>\n",
       "      <td>Parked</td>\n",
       "      <td>2</td>\n",
       "      <td>0.000000</td>\n",
       "      <td>0</td>\n",
       "    </tr>\n",
       "    <tr>\n",
       "      <th>5</th>\n",
       "      <td>Take-off run</td>\n",
       "      <td>406</td>\n",
       "      <td>69953.507389</td>\n",
       "      <td>28401124</td>\n",
       "    </tr>\n",
       "    <tr>\n",
       "      <th>6</th>\n",
       "      <td>Taxi</td>\n",
       "      <td>5</td>\n",
       "      <td>14210.000000</td>\n",
       "      <td>71050</td>\n",
       "    </tr>\n",
       "  </tbody>\n",
       "</table>\n",
       "</div>"
      ],
      "text/plain": [
       "    FlightPhase  Strike_Count  Average_Cost  Total_Cost\n",
       "0      Approach          1182  25350.672589    29964495\n",
       "1         Climb           772  75313.670984    58142154\n",
       "2       Descent           172  23844.755814     4101298\n",
       "3  Landing Roll           226  16422.101770     3711395\n",
       "4        Parked             2      0.000000           0\n",
       "5  Take-off run           406  69953.507389    28401124\n",
       "6          Taxi             5  14210.000000       71050"
      ]
     },
     "execution_count": 606,
     "metadata": {},
     "output_type": "execute_result"
    }
   ],
   "source": [
    "# Strike count, average cost, and total cost of damaging strikes by flight phase.\n",
    "phase_dmg = df_dmg.groupby('FlightPhase').agg(\n",
    "    Strike_Count = ('FlightPhase', 'size'),\n",
    "    Average_Cost = ('Cost', 'mean'),\n",
    "    Total_Cost = ('Cost', 'sum')\n",
    ").reset_index()\n",
    "phase_dmg"
   ]
  },
  {
   "cell_type": "code",
   "execution_count": 607,
   "id": "352ae6b0-edd3-4eab-8976-1e50c97eaa14",
   "metadata": {},
   "outputs": [
    {
     "data": {
      "image/png": "[encoded data removed]",
      "text/plain": [
       "<Figure size 640x480 with 1 Axes>"
      ]
     },
     "metadata": {},
     "output_type": "display_data"
    }
   ],
   "source": [
    "# Plotting the proportion of damaging strikes by flight phase\n",
    "sns.barplot(data = phase_dmg, \n",
    "            x = 'FlightPhase',\n",
    "            y = 'Strike_Count'\n",
    "           )\n",
    "plt.title('Proportion of All Strikes by Flight Phase');\n",
    "plt.xticks(rotation=45)\n",
    "plt.show();"
   ]
  },
  {
   "cell_type": "markdown",
   "id": "e85363a9-7597-428c-bb29-238037ae9dbb",
   "metadata": {},
   "source": [
    "The graphs above show that the majority of strikes occur during the approach phase, which also sees the highest frequency of damaging strikes. A disproportionate increase in the climbing phase suggests that damaging strikes are more prevalent here than in other phases, excluding the approach. Conversely, damaging strikes are less frequent during the landing roll phase compared to the other phases."
   ]
  },
  {
   "cell_type": "code",
   "execution_count": 608,
   "id": "b99ebea4-cc9b-452f-9190-5c00f05ab982",
   "metadata": {},
   "outputs": [
    {
     "data": {
      "image/png": "[encoded data removed]",
      "text/plain": [
       "<Figure size 640x480 with 1 Axes>"
      ]
     },
     "metadata": {},
     "output_type": "display_data"
    }
   ],
   "source": [
    "# Plotting the average cost of all strikes by flight phase\n",
    "sns.barplot(data = phase, \n",
    "            x = 'FlightPhase',\n",
    "            y = 'Average_Cost'\n",
    "           )\n",
    "plt.title('Average Cost of All Strikes by Flight Phase');\n",
    "plt.xticks(rotation=45)\n",
    "plt.show();"
   ]
  },
  {
   "cell_type": "code",
   "execution_count": 609,
   "id": "9b97dac1-595e-49cd-8609-8eda66a0774c",
   "metadata": {},
   "outputs": [
    {
     "data": {
      "image/png": "[encoded data removed]",
      "text/plain": [
       "<Figure size 640x480 with 1 Axes>"
      ]
     },
     "metadata": {},
     "output_type": "display_data"
    }
   ],
   "source": [
    "# Plotting the average cost of damaging strikes by flight phase\n",
    "sns.barplot(data = phase_dmg, \n",
    "            x = 'FlightPhase',\n",
    "            y = 'Average_Cost'\n",
    "           )\n",
    "plt.title('Average Cost of Damaging Strikes by Flight Phase');\n",
    "plt.xticks(rotation=45)\n",
    "plt.show();"
   ]
  },
  {
   "cell_type": "markdown",
   "id": "6e4b34ec-2f8c-475d-bda5-725e2984f6a1",
   "metadata": {},
   "source": [
    "Comparing the two graphs above, damaging strikes cost more, specifically during the climbing phase and take-off run. Considering that climbing, landing, and take-off phases have a similar number of all strike cases, the disproportional change in the average cost of damaging strikes during take off should be further investigated. As such, priority should be given to addressing these two phases, with tailored countermeasures for each scenario."
   ]
  },
  {
   "cell_type": "code",
   "execution_count": 610,
   "id": "4be7c267-d7c3-4cdf-aebe-66bf5c27cdd4",
   "metadata": {},
   "outputs": [],
   "source": [
    "# Finding proportional cost of damaging strikes by flight phase\n",
    "phase_merged = pd.merge(phase, phase_dmg, left_on='FlightPhase', right_on='FlightPhase', suffixes = ('', '_dmg'))\n",
    "phase_merged = phase_merged.drop(['Strike_Count', 'Average_Cost', 'Strike_Count_dmg', 'Average_Cost_dmg'], axis  = 1)\n",
    "phase_merged['Proportional_Cost'] = phase_merged.Total_Cost_dmg / phase_merged.Total_Cost"
   ]
  },
  {
   "cell_type": "code",
   "execution_count": 611,
   "id": "97a109df-0c7c-4cb6-ade4-a6959c745faa",
   "metadata": {},
   "outputs": [
    {
     "data": {
      "image/png": "[encoded data removed]",
      "text/plain": [
       "<Figure size 640x480 with 1 Axes>"
      ]
     },
     "metadata": {},
     "output_type": "display_data"
    }
   ],
   "source": [
    "# Plotting proportional cost of damaging strikes by flight phase\n",
    "sns.barplot(data = phase_merged,\n",
    "            x = 'FlightPhase',\n",
    "            y = 'Proportional_Cost')\n",
    "plt.title('Proportional Cost of Damaging Strikes by Flight Phase')\n",
    "plt.show()"
   ]
  },
  {
   "cell_type": "markdown",
   "id": "d0a8948c-47ba-4db4-8e7d-86763142b2d8",
   "metadata": {},
   "source": [
    "Understandably, most costs arise from damaging strikes. However, intriguingly, a significant portion of costs during the landing roll phase stems from non-damaging cases. I hypothesize that these strikes cause flight delays, leading to increased inspection costs or passenger compensation. Since this phase occurs on the ground, it may be more feasible to implement preventive measures to deter birds effectively."
   ]
  },
  {
   "cell_type": "markdown",
   "id": "0ec43d4b-d280-4d48-8309-a62416fba570",
   "metadata": {},
   "source": [
    "## What are the geological locations of bird strikes? "
   ]
  },
  {
   "cell_type": "code",
   "execution_count": 612,
   "id": "cc1406ef-74f8-459e-991f-06e37a074d03",
   "metadata": {},
   "outputs": [],
   "source": [
    "# List of non US State\n",
    "non_us_state = ['Puerto Rico', 'Virgin Islands','Prince Edward Island', 'Ontario', 'British Columbia' ,'Quebec', 'Alberta', 'Newfoundland and Labrador', 'Saskatchewan']"
   ]
  },
  {
   "cell_type": "code",
   "execution_count": 613,
   "id": "43b94a03-b10d-41a8-91ff-df07317d1bff",
   "metadata": {},
   "outputs": [],
   "source": [
    "state_abbreviations = {\n",
    "    \"Alabama\": \"AL\", \"Alaska\": \"AK\", \"Arizona\": \"AZ\", \"Arkansas\": \"AR\", \"California\": \"CA\", \n",
    "    \"Colorado\": \"CO\", \"Connecticut\": \"CT\", \"Delaware\": \"DE\", \"Florida\": \"FL\", \"Georgia\": \"GA\", \n",
    "    \"Hawaii\": \"HI\", \"Idaho\": \"ID\", \"Illinois\": \"IL\", \"Indiana\": \"IN\", \"Iowa\": \"IA\", \"Kansas\": \"KS\", \n",
    "    \"Kentucky\": \"KY\", \"Louisiana\": \"LA\", \"Maine\": \"ME\", \"Maryland\": \"MD\", \"Massachusetts\": \"MA\", \n",
    "    \"Michigan\": \"MI\", \"Minnesota\": \"MN\", \"Mississippi\": \"MS\", \"Missouri\": \"MO\", \"Montana\": \"MT\", \n",
    "    \"Nebraska\": \"NE\", \"Nevada\": \"NV\", \"New Hampshire\": \"NH\", \"New Jersey\": \"NJ\", \"New Mexico\": \"NM\", \n",
    "    \"New York\": \"NY\", \"North Carolina\": \"NC\", \"North Dakota\": \"ND\", \"Ohio\": \"OH\", \"Oklahoma\": \"OK\", \n",
    "    \"Oregon\": \"OR\", \"Pennsylvania\": \"PA\", \"Rhode Island\": \"RI\", \"South Carolina\": \"SC\", \n",
    "    \"South Dakota\": \"SD\", \"Tennessee\": \"TN\", \"Texas\": \"TX\", \"Utah\": \"UT\", \"Vermont\": \"VT\", \n",
    "    \"Virginia\": \"VA\", \"Washington\": \"WA\", \"West Virginia\": \"WV\", \"Wisconsin\": \"WI\", \"Wyoming\": \"WY\"\n",
    "}\n"
   ]
  },
  {
   "cell_type": "code",
   "execution_count": 614,
   "id": "0a2d8752-b845-470f-b76c-58513874c004",
   "metadata": {},
   "outputs": [],
   "source": [
    "# Frequency of struck plane origin \n",
    "state = df.OriginState.value_counts() \n",
    "state = pd.DataFrame(state).reset_index()\n",
    "state = state[~state['OriginState'].isin(non_us_state)]\n",
    "state['OriginState'] = state['OriginState'].replace(state_abbreviations)"
   ]
  },
  {
   "cell_type": "code",
   "execution_count": 615,
   "id": "1474616f-545d-4eec-a05b-f374593666a2",
   "metadata": {},
   "outputs": [
    {
     "data": {
      "image/png": "[encoded data removed]",
      "text/plain": [
       "<Figure size 1500x1000 with 2 Axes>"
      ]
     },
     "metadata": {},
     "output_type": "display_data"
    }
   ],
   "source": [
    "# Graphing the frequency of all strikes by state\n",
    "# Load the shapefile data\n",
    "gdf = gpd.read_file('cb_2022_us_state_20m.shp')\n",
    "\n",
    "gdf = gdf.set_index('STUSPS')  # Set the state abbreviation as index\n",
    "\n",
    "# Merge the dataframe with the GeoDataFrame on the state abbreviation\n",
    "merged = gdf.join(state.set_index('OriginState'))\n",
    "\n",
    "# Plot the choropleth map\n",
    "fig, ax = plt.subplots(1, 1, figsize=(15, 10))\n",
    "merged.plot(column='count', ax=ax, legend=True,\n",
    "            legend_kwds={'label': \"Frequency of All Strikes by State\",\n",
    "                         'orientation': \"horizontal\"})\n",
    "# Adjust graph\n",
    "ax.set_title('Frequency of All Bird Strikes by State')\n",
    "ax.set_axis_off()\n",
    "ax.set_xlim(-130, -60) \n",
    "ax.set_ylim(20, 50)\n",
    "plt.show()"
   ]
  },
  {
   "cell_type": "markdown",
   "id": "12038dea-99f2-4c00-baed-973a0eac35c8",
   "metadata": {},
   "source": [
    "Bird strikes are most frequent in California, Texas, and Florida, which are located in the southern United States. This trend may be attributed to these states being key points along migratory bird paths, as many bird species travel through these regions during seasonal transitions. Additionally, these areas likely have higher bird populations, which increases the likelihood of collisions.\n",
    "\n",
    "A secondary cluster of bird strikes occurs in the Northwestern and Midwestern states. This pattern may reflect the abundance of suitable habitats for birds, such as wetlands and forests, which attract both migratory and resident species. These regions may also experience higher strike rates due to their proximity to busy air traffic routes."
   ]
  },
  {
   "cell_type": "code",
   "execution_count": 616,
   "id": "4bac092b-6a0e-4d6d-a55f-7bd03b095ad5",
   "metadata": {},
   "outputs": [],
   "source": [
    "# Frequency of damaging struck plane origin\n",
    "state_dmg = df_dmg.OriginState.value_counts() \n",
    "state_dmg = pd.DataFrame(state_dmg).reset_index()\n",
    "state_dmg = state_dmg[~state_dmg['OriginState'].isin(non_us_state)]\n",
    "state_dmg['OriginState'] = state_dmg['OriginState'].replace(state_abbreviations)"
   ]
  },
  {
   "cell_type": "code",
   "execution_count": 617,
   "id": "ad5ed32b-42cd-41b3-aac1-68483589ff3f",
   "metadata": {},
   "outputs": [
    {
     "data": {
      "image/png": "[encoded data removed]",
      "text/plain": [
       "<Figure size 1500x1000 with 2 Axes>"
      ]
     },
     "metadata": {},
     "output_type": "display_data"
    }
   ],
   "source": [
    "# Graphing the frequency of damaging bird strikes by state\n",
    "# Load the shapefile data\n",
    "gdf = gpd.read_file('cb_2022_us_state_20m.shp')\n",
    "\n",
    "gdf = gdf.set_index('STUSPS')  # Set the state abbreviation as index\n",
    "\n",
    "# Merge the dataframe with the GeoDataFrame on the state abbreviation\n",
    "merged = gdf.join(state_dmg.set_index('OriginState'))\n",
    "\n",
    "# Plot the choropleth map\n",
    "fig, ax = plt.subplots(1, 1, figsize=(15, 10))\n",
    "merged.plot(column='count', ax=ax, legend=True,\n",
    "            legend_kwds={'label': \"Frequency of All Strikes by State\",\n",
    "                         'orientation': \"horizontal\"})\n",
    "\n",
    "# Adjust graph\n",
    "ax.set_title('Frequency of All Bird Strikes by State')\n",
    "ax.set_axis_off()\n",
    "ax.set_xlim(-130, -60) \n",
    "ax.set_ylim(20, 50)\n",
    "plt.show()"
   ]
  },
  {
   "cell_type": "markdown",
   "id": "7035a9ec-ba95-4688-8ef2-a71e59bffe7f",
   "metadata": {},
   "source": [
    "The map highlighting damaging strikes shows that California, Florida, and Texas remain key areas of concern, as they continue to exhibit a high frequency of damaging strikes. However, it's interesting to note that Oregon and Washington, despite having fewer overall strikes than states in the secondary cluster, show a higher concentration of damaging strikes. This suggests that while these states experience fewer bird strikes overall, the strikes they do have may be more severe or involve more vulnerable aircraft, warranting further investigation and targeted mitigation efforts in these regions."
   ]
  },
  {
   "cell_type": "markdown",
   "id": "339c3bb7-570a-47aa-9263-d74654230f8a",
   "metadata": {},
   "source": [
    "## What times do bird strikes occur? "
   ]
  },
  {
   "cell_type": "code",
   "execution_count": 618,
   "id": "922c5867-f851-44f7-9260-3a1463f8ea98",
   "metadata": {},
   "outputs": [],
   "source": [
    "# Creating a table of date when a bird strike\n",
    "time = df.FlightDate.copy()\n",
    "time = pd.DataFrame(time)\n",
    "time['FlightDate'] = pd.to_datetime(time['FlightDate'], format='%m/%d/%y %H:%M')\n",
    "\n",
    "# Creating a table of dates when a bird strike damage\n",
    "time_dmg = df_dmg.FlightDate.copy()\n",
    "time_dmg = pd.DataFrame(time_dmg)\n",
    "time_dmg['FlightDate'] = pd.to_datetime(time_dmg['FlightDate'], format='%m/%d/%y %H:%M')"
   ]
  },
  {
   "cell_type": "code",
   "execution_count": 648,
   "id": "b5088e1b-8308-4633-8e8d-cf5a4d7e77c6",
   "metadata": {},
   "outputs": [],
   "source": [
    "# Adding day, month, year to all-strike table\n",
    "time['Year'] = time['FlightDate'].dt.year\n",
    "time['Month'] = time['FlightDate'].dt.month\n",
    "time['Day'] = time['FlightDate'].dt.day\n",
    "time['YearMonth'] = time['FlightDate'].dt.to_period('M')\n",
    "\n",
    "# Adding day, month, year to table damaging-strike table\n",
    "time_dmg['Year'] = time_dmg['FlightDate'].dt.year\n",
    "time_dmg['Month'] = time_dmg['FlightDate'].dt.month\n",
    "time_dmg['Day'] = time_dmg['FlightDate'].dt.day\n",
    "time_dmg['YearMonth'] = time_dmg['FlightDate'].dt.to_period('M')"
   ]
  },
  {
   "cell_type": "markdown",
   "id": "77c88865-ae20-48c6-aeef-747970992d14",
   "metadata": {},
   "source": [
    "The frequency of bird strikes begins to rise in March, peaking during the summer months of July, August, and September, before sharply declining after October. This trend aligns with the summer travel season, which sees a peak in air travel due to vacation demand. The highest frequency of strikes coincides with both the height of bird migration (especially southward in fall) and the increased number of flights during the summer months. As the migration subsides and air travel drops off after October, the number of strikes falls significantly."
   ]
  },
  {
   "cell_type": "code",
   "execution_count": 620,
   "id": "4b5f24eb-1c33-4228-ac4e-435f41b4c276",
   "metadata": {},
   "outputs": [
    {
     "data": {
      "image/png": "[encoded data removed]",
      "text/plain": [
       "<Figure size 1000x600 with 1 Axes>"
      ]
     },
     "metadata": {},
     "output_type": "display_data"
    }
   ],
   "source": [
    "# Plotting all bird strikes by month\n",
    "monthly_strikes = time.groupby('Month').size().reset_index(name='Count')\n",
    "plt.figure(figsize=(10, 6))\n",
    "sns.barplot(x='Month', y='Count', data=monthly_strikes)\n",
    "plt.title('Number of All Bird Strikes in Each Month')\n",
    "plt.xlabel('Month')\n",
    "plt.ylabel('Count')\n",
    "plt.show()"
   ]
  },
  {
   "cell_type": "code",
   "execution_count": 621,
   "id": "b287e390-c0b4-434b-8cf7-ac21cab304d5",
   "metadata": {},
   "outputs": [
    {
     "data": {
      "image/png": "[encoded data removed]",
      "text/plain": [
       "<Figure size 1000x600 with 1 Axes>"
      ]
     },
     "metadata": {},
     "output_type": "display_data"
    }
   ],
   "source": [
    "# Plotting damaging bird strikes by month\n",
    "monthly_strikes_dmg = time_dmg.groupby('Month').size().reset_index(name='Count')\n",
    "plt.figure(figsize=(10, 6))\n",
    "sns.barplot(x='Month', y='Count', data=monthly_strikes_dmg)\n",
    "plt.title('Number of Damaging Bird Strikes in Each Month')\n",
    "plt.xlabel('Month')\n",
    "plt.ylabel('Count')\n",
    "plt.show()"
   ]
  },
  {
   "cell_type": "markdown",
   "id": "5bb52af7-cb05-4454-af4c-b94bff960b1e",
   "metadata": {},
   "source": [
    "Damaging strikes occur more frequently during the spring and summer months, which aligns with my explanation of increased travel demand and bird migration patterns. The higher number of damaging strikes in the spring could be attributed to the large volume of birds migrating, while the elevated flight frequency in the summer likely contributes to an increased number of damaging strikes. The combination of these factors explains the seasonal spike in damaging bird strikes during these months."
   ]
  },
  {
   "cell_type": "code",
   "execution_count": 622,
   "id": "a3ef7a44-38ee-408d-9801-aacf490dc4f5",
   "metadata": {},
   "outputs": [
    {
     "data": {
      "image/png": "[encoded data removed]",
      "text/plain": [
       "<Figure size 1000x600 with 1 Axes>"
      ]
     },
     "metadata": {},
     "output_type": "display_data"
    }
   ],
   "source": [
    "# Plotting all bird strikes by day\n",
    "daily_strikes = time.groupby('Day').size().reset_index(name='Count')\n",
    "plt.figure(figsize=(10, 6))\n",
    "sns.barplot(x='Day', y='Count', data=daily_strikes)\n",
    "plt.title('Number of All Bird Strikes by Day')\n",
    "plt.xlabel('Month')\n",
    "plt.ylabel('Count')\n",
    "plt.show()"
   ]
  },
  {
   "cell_type": "code",
   "execution_count": 623,
   "id": "60d20b46-f0ea-4501-96af-9e830753253f",
   "metadata": {},
   "outputs": [
    {
     "data": {
      "image/png": "[encoded data removed]",
      "text/plain": [
       "<Figure size 1000x600 with 1 Axes>"
      ]
     },
     "metadata": {},
     "output_type": "display_data"
    }
   ],
   "source": [
    "# Plotting damaging bird strikes by day\n",
    "daily_strikes_dmg = time_dmg.groupby('Day').size().reset_index(name='Count')\n",
    "plt.figure(figsize=(10, 6))\n",
    "sns.barplot(x='Day', y='Count', data=daily_strikes_dmg)\n",
    "plt.title('Number of All Bird Strikes in Each Month')\n",
    "plt.xlabel('Month')\n",
    "plt.ylabel('Count')\n",
    "plt.show()"
   ]
  },
  {
   "cell_type": "code",
   "execution_count": null,
   "id": "b1246c0e-6aec-4555-853e-d9bc6e09fa33",
   "metadata": {},
   "outputs": [],
   "source": []
  },
  {
   "cell_type": "markdown",
   "id": "c1ba58ef-70e6-4caf-adb8-9d75bc8f1ea7",
   "metadata": {},
   "source": [
    "It's fascinating to observe that damaging bird strikes vary across the days of a month. This variation is likely influenced by flight schedules or patterns on specific days."
   ]
  },
  {
   "cell_type": "markdown",
   "id": "0078b5eb-e488-482b-ad8a-c8a916e94179",
   "metadata": {},
   "source": [
    "# Inferential Statistics"
   ]
  },
  {
   "cell_type": "code",
   "execution_count": null,
   "id": "70bb9383-6356-4f20-b2d0-b4757904297a",
   "metadata": {},
   "outputs": [],
   "source": [
    "sentiment_trends.plot(kind='line', figsize=(12, 6), marker='o')\n",
    "plt.title('Sentiment Trends Over Time')\n",
    "plt.xlabel('Time (Year-Month)')\n",
    "plt.ylabel('Number of Reviews')\n",
    "plt.legend(title='Sentiment')\n",
    "plt.grid(True)\n",
    "plt.show()"
   ]
  },
  {
   "cell_type": "markdown",
   "id": "faca047a-8afc-4eb7-a42b-24c1f5013faa",
   "metadata": {},
   "source": [
    "1. Can we predict whether a bird strike will result in damage to a flight?\n",
    "2. How can we predict the financial cost of damage caused by bird strikes on a flight?"
   ]
  },
  {
   "cell_type": "code",
   "execution_count": 624,
   "id": "ccb3df5d-c3a0-4efe-a16c-0272f7d140e1",
   "metadata": {},
   "outputs": [],
   "source": [
    "pred_df = df.copy()\n",
    "pred_df['FlightDate'] = pd.to_datetime(pred_df['FlightDate'], format='%m/%d/%y %H:%M')\n",
    "pred_df['Month'] = pred_df['FlightDate'].dt.month\n",
    "# New column: 0 if bird strike has no consequence and 1 if there is cost or damage\n",
    "pred_df['Outcome'] = pred_df.apply(lambda row: 1 if row['Damage'] == 'Caused Damage' or row['Cost'] > 0 else 0, axis=1)\n",
    "# Change Engines data type to integer\n",
    "pred_df = pred_df.dropna(subset=['Engines'])\n",
    "pred_df = pred_df[pred_df.Engines != 'C']\n",
    "pred_df.Engines = pred_df.Engines.astype(int)\n",
    "pred_df.Month = pred_df.Month.astype(int)\n",
    "pred_outcome = pred_df.copy()\n",
    "pred_cost = pred_df.copy()"
   ]
  },
  {
   "cell_type": "markdown",
   "id": "b0b31dba-775b-4e39-b16f-9fd45e4d268e",
   "metadata": {},
   "source": [
    "## 1. Can we predict whether a bird strike will result in damage to a flight?"
   ]
  },
  {
   "cell_type": "code",
   "execution_count": 625,
   "id": "20ee6aa4-6c45-4f8e-9826-9954361d0063",
   "metadata": {},
   "outputs": [],
   "source": [
    "# Hot encoding variables\n",
    "X = ['OriginState', 'IsAircraftLarge?', 'WildlifeSize', \n",
    "     'ConditionsSky', 'NumberStruck', 'FlightPhase',\n",
    "    'WildlifeSize', 'PilotWarned']"
   ]
  },
  {
   "cell_type": "code",
   "execution_count": 626,
   "id": "90b6470a-7ec5-471b-bc47-2553e117cee5",
   "metadata": {},
   "outputs": [],
   "source": [
    "pred_outcome = pd.get_dummies(pred_outcome, columns = X, drop_first=True)\n",
    "# Drop columns from pred_outcome that exist in df excluding Engines\n",
    "pred_outcome = pred_outcome.drop(columns=[col for col in df.columns if col not in ['Engines', 'Month', 'Outcome'] and col in pred_outcome.columns])"
   ]
  },
  {
   "cell_type": "code",
   "execution_count": 627,
   "id": "4c85c6cd-0497-47e9-a1e8-83af754fc395",
   "metadata": {},
   "outputs": [],
   "source": [
    "# Separate the dataset into two subdatasets based on 'Outcome' column\n",
    "damage_data = pred_outcome[pred_outcome['Outcome'] == 1]\n",
    "normal_data = pred_outcome[pred_outcome['Outcome'] == 0]"
   ]
  },
  {
   "cell_type": "code",
   "execution_count": 628,
   "id": "909298c4-a49e-4051-a688-6d87416685ea",
   "metadata": {},
   "outputs": [],
   "source": [
    "# Undersample the 'normal_data' to match the size of 'damage_data'\n",
    "undersampled_normal_data = resample(normal_data,\n",
    "                                    n_samples=len(damage_data),  # Match the number of damage strikes\n",
    "                                    random_state=1234,  \n",
    "                                    replace=False)  # No replacement, to get an equal number"
   ]
  },
  {
   "cell_type": "code",
   "execution_count": 629,
   "id": "a2fa1735-bce0-4041-a608-9e1da2374636",
   "metadata": {},
   "outputs": [],
   "source": [
    "# Concatenate the damage data and the undersampled normal data\n",
    "undersampled_data = pd.concat([damage_data, undersampled_normal_data])"
   ]
  },
  {
   "cell_type": "code",
   "execution_count": 630,
   "id": "3a85be8e-319f-4d3e-ae49-9c622eaef15f",
   "metadata": {},
   "outputs": [],
   "source": [
    "# Separating independent and dependent data\n",
    "predictors = undersampled_data.drop('Outcome', axis = 1)\n",
    "predictant = undersampled_data.Outcome"
   ]
  },
  {
   "cell_type": "code",
   "execution_count": 631,
   "id": "a8685ad5-c9e3-4933-b85d-6309512ad146",
   "metadata": {},
   "outputs": [],
   "source": [
    "# Split the data into training and testing sets \n",
    "X_train, X_test, y_train, y_test = train_test_split(predictors, predictant, test_size=0.2, random_state=1234)"
   ]
  },
  {
   "cell_type": "markdown",
   "id": "6f3d7056-a581-42a8-91f6-0c042f2d60e0",
   "metadata": {},
   "source": [
    "#### Logistic Regression"
   ]
  },
  {
   "cell_type": "code",
   "execution_count": 632,
   "id": "71a7853e-0697-4dfc-b98b-cd1e4ada0269",
   "metadata": {},
   "outputs": [],
   "source": [
    "# Logistic Regression\n",
    "scaler = StandardScaler()\n",
    "X_train_scaled = scaler.fit_transform(X_train)\n",
    "X_test_scaled = scaler.transform(X_test)"
   ]
  },
  {
   "cell_type": "code",
   "execution_count": 633,
   "id": "626cfa38-f19a-431f-b380-e3dee1546982",
   "metadata": {},
   "outputs": [],
   "source": [
    "# Initialize the logistic regression model\n",
    "log_model = LogisticRegression(random_state=1234)\n",
    "# Fit the model to the training data\n",
    "log_model.fit(X_train_scaled, y_train)\n",
    "# Make predictions \n",
    "y_pred = log_model.predict(X_test_scaled)"
   ]
  },
  {
   "cell_type": "code",
   "execution_count": 634,
   "id": "6becfdab-97bf-409a-b221-7ba90e9a0243",
   "metadata": {},
   "outputs": [
    {
     "data": {
      "text/plain": [
       "0.6892177589852009"
      ]
     },
     "execution_count": 634,
     "metadata": {},
     "output_type": "execute_result"
    }
   ],
   "source": [
    "# Accuracy of model\n",
    "logistic_acc = accuracy_score(y_test, y_pred)\n",
    "logistic_acc"
   ]
  },
  {
   "cell_type": "code",
   "execution_count": 635,
   "id": "4016110d-7e7b-4641-8e58-90f3c0abcf5b",
   "metadata": {},
   "outputs": [
    {
     "data": {
      "text/plain": [
       "0.6805880135695439"
      ]
     },
     "execution_count": 635,
     "metadata": {},
     "output_type": "execute_result"
    }
   ],
   "source": [
    "# Perform 5-fold cross-validation\n",
    "log_cv_scores = cross_val_score(log_model, X_train_scaled, y_train, cv=5, scoring='accuracy')\n",
    "log_cv_scores.mean()"
   ]
  },
  {
   "cell_type": "code",
   "execution_count": 636,
   "id": "b324086b-dd56-4d1e-9735-7f55a33529cc",
   "metadata": {
    "jp-MarkdownHeadingCollapsed": true,
    "scrolled": true
   },
   "outputs": [
    {
     "data": {
      "text/plain": [
       "0.7515418818129661"
      ]
     },
     "execution_count": 636,
     "metadata": {},
     "output_type": "execute_result"
    }
   ],
   "source": [
    "# Get predicted probabilities for the positive class (class 1)\n",
    "y_prob = log_model.predict_proba(X_test_scaled)[:, 1]\n",
    "# Calculate the ROC AUC score\n",
    "log_auc = roc_auc_score(y_test, y_prob)\n",
    "log_auc"
   ]
  },
  {
   "cell_type": "code",
   "execution_count": 637,
   "id": "09d7a368-7277-4dda-867c-f575ed06c4d5",
   "metadata": {},
   "outputs": [
    {
     "data": {
      "text/html": [
       "<div>\n",
       "<style scoped>\n",
       "    .dataframe tbody tr th:only-of-type {\n",
       "        vertical-align: middle;\n",
       "    }\n",
       "\n",
       "    .dataframe tbody tr th {\n",
       "        vertical-align: top;\n",
       "    }\n",
       "\n",
       "    .dataframe thead th {\n",
       "        text-align: right;\n",
       "    }\n",
       "</style>\n",
       "<table border=\"1\" class=\"dataframe\">\n",
       "  <thead>\n",
       "    <tr style=\"text-align: right;\">\n",
       "      <th></th>\n",
       "      <th>precision</th>\n",
       "      <th>recall</th>\n",
       "      <th>f1-score</th>\n",
       "      <th>support</th>\n",
       "    </tr>\n",
       "  </thead>\n",
       "  <tbody>\n",
       "    <tr>\n",
       "      <th>0</th>\n",
       "      <td>0.657143</td>\n",
       "      <td>0.718750</td>\n",
       "      <td>0.686567</td>\n",
       "      <td>224.000000</td>\n",
       "    </tr>\n",
       "    <tr>\n",
       "      <th>1</th>\n",
       "      <td>0.723684</td>\n",
       "      <td>0.662651</td>\n",
       "      <td>0.691824</td>\n",
       "      <td>249.000000</td>\n",
       "    </tr>\n",
       "    <tr>\n",
       "      <th>accuracy</th>\n",
       "      <td>0.689218</td>\n",
       "      <td>0.689218</td>\n",
       "      <td>0.689218</td>\n",
       "      <td>0.689218</td>\n",
       "    </tr>\n",
       "    <tr>\n",
       "      <th>macro avg</th>\n",
       "      <td>0.690414</td>\n",
       "      <td>0.690700</td>\n",
       "      <td>0.689196</td>\n",
       "      <td>473.000000</td>\n",
       "    </tr>\n",
       "    <tr>\n",
       "      <th>weighted avg</th>\n",
       "      <td>0.692172</td>\n",
       "      <td>0.689218</td>\n",
       "      <td>0.689334</td>\n",
       "      <td>473.000000</td>\n",
       "    </tr>\n",
       "  </tbody>\n",
       "</table>\n",
       "</div>"
      ],
      "text/plain": [
       "              precision    recall  f1-score     support\n",
       "0              0.657143  0.718750  0.686567  224.000000\n",
       "1              0.723684  0.662651  0.691824  249.000000\n",
       "accuracy       0.689218  0.689218  0.689218    0.689218\n",
       "macro avg      0.690414  0.690700  0.689196  473.000000\n",
       "weighted avg   0.692172  0.689218  0.689334  473.000000"
      ]
     },
     "execution_count": 637,
     "metadata": {},
     "output_type": "execute_result"
    }
   ],
   "source": [
    "log_report = classification_report(y_test, y_pred, output_dict=True)\n",
    "log_report = pd.DataFrame(log_report).T\n",
    "log_report"
   ]
  },
  {
   "cell_type": "markdown",
   "id": "a9e34ee5-ca46-4fae-9819-6bebf95c4ecd",
   "metadata": {},
   "source": [
    "#### Random Forest Classification"
   ]
  },
  {
   "cell_type": "code",
   "execution_count": 638,
   "id": "52e0bc72-f8c8-417f-96d5-f627d00e94ad",
   "metadata": {},
   "outputs": [],
   "source": [
    "# RandomForestClassifier \n",
    "rf_classifier = RandomForestClassifier(n_estimators=100, random_state=1234)\n",
    "rf_classifier.fit(X_train, y_train)\n",
    "y_pred = rf_classifier.predict(X_test)"
   ]
  },
  {
   "cell_type": "code",
   "execution_count": 639,
   "id": "812fac4b-60a2-43a0-a222-515f7e538a02",
   "metadata": {},
   "outputs": [
    {
     "data": {
      "text/plain": [
       "0.7061310782241015"
      ]
     },
     "execution_count": 639,
     "metadata": {},
     "output_type": "execute_result"
    }
   ],
   "source": [
    "# Accuracy of model\n",
    "rf_acc = accuracy_score(y_test, y_pred)\n",
    "rf_acc"
   ]
  },
  {
   "cell_type": "code",
   "execution_count": 640,
   "id": "bf7a1a0b-ecd8-4f55-a49f-be64643c60d1",
   "metadata": {},
   "outputs": [
    {
     "data": {
      "text/plain": [
       "0.6610182742108863"
      ]
     },
     "execution_count": 640,
     "metadata": {},
     "output_type": "execute_result"
    }
   ],
   "source": [
    "# Perform 5-fold cross-validation\n",
    "rf_cv_scores = cross_val_score(rf_classifier, X_train, y_train, cv=5, scoring='accuracy')\n",
    "rf_cv_scores.mean()"
   ]
  },
  {
   "cell_type": "code",
   "execution_count": 641,
   "id": "e488064c-3067-4905-a8b2-3336bd01aa29",
   "metadata": {},
   "outputs": [
    {
     "data": {
      "text/plain": [
       "0.7569026104417671"
      ]
     },
     "execution_count": 641,
     "metadata": {},
     "output_type": "execute_result"
    }
   ],
   "source": [
    "# Get predicted probabilities for the positive class (class 1)\n",
    "y_prob = rf_classifier.predict_proba(X_test)[:, 1]\n",
    "# Calculate the ROC AUC score\n",
    "rf_auc = roc_auc_score(y_test, y_prob)\n",
    "rf_auc"
   ]
  },
  {
   "cell_type": "code",
   "execution_count": 642,
   "id": "6572f7d5-7f82-4689-a76c-7a44ab5a3a9f",
   "metadata": {},
   "outputs": [
    {
     "data": {
      "text/html": [
       "<div>\n",
       "<style scoped>\n",
       "    .dataframe tbody tr th:only-of-type {\n",
       "        vertical-align: middle;\n",
       "    }\n",
       "\n",
       "    .dataframe tbody tr th {\n",
       "        vertical-align: top;\n",
       "    }\n",
       "\n",
       "    .dataframe thead th {\n",
       "        text-align: right;\n",
       "    }\n",
       "</style>\n",
       "<table border=\"1\" class=\"dataframe\">\n",
       "  <thead>\n",
       "    <tr style=\"text-align: right;\">\n",
       "      <th></th>\n",
       "      <th>precision</th>\n",
       "      <th>recall</th>\n",
       "      <th>f1-score</th>\n",
       "      <th>support</th>\n",
       "    </tr>\n",
       "  </thead>\n",
       "  <tbody>\n",
       "    <tr>\n",
       "      <th>0</th>\n",
       "      <td>0.660377</td>\n",
       "      <td>0.781250</td>\n",
       "      <td>0.715746</td>\n",
       "      <td>224.000000</td>\n",
       "    </tr>\n",
       "    <tr>\n",
       "      <th>1</th>\n",
       "      <td>0.764423</td>\n",
       "      <td>0.638554</td>\n",
       "      <td>0.695842</td>\n",
       "      <td>249.000000</td>\n",
       "    </tr>\n",
       "    <tr>\n",
       "      <th>accuracy</th>\n",
       "      <td>0.706131</td>\n",
       "      <td>0.706131</td>\n",
       "      <td>0.706131</td>\n",
       "      <td>0.706131</td>\n",
       "    </tr>\n",
       "    <tr>\n",
       "      <th>macro avg</th>\n",
       "      <td>0.712400</td>\n",
       "      <td>0.709902</td>\n",
       "      <td>0.705794</td>\n",
       "      <td>473.000000</td>\n",
       "    </tr>\n",
       "    <tr>\n",
       "      <th>weighted avg</th>\n",
       "      <td>0.715150</td>\n",
       "      <td>0.706131</td>\n",
       "      <td>0.705268</td>\n",
       "      <td>473.000000</td>\n",
       "    </tr>\n",
       "  </tbody>\n",
       "</table>\n",
       "</div>"
      ],
      "text/plain": [
       "              precision    recall  f1-score     support\n",
       "0              0.660377  0.781250  0.715746  224.000000\n",
       "1              0.764423  0.638554  0.695842  249.000000\n",
       "accuracy       0.706131  0.706131  0.706131    0.706131\n",
       "macro avg      0.712400  0.709902  0.705794  473.000000\n",
       "weighted avg   0.715150  0.706131  0.705268  473.000000"
      ]
     },
     "execution_count": 642,
     "metadata": {},
     "output_type": "execute_result"
    }
   ],
   "source": [
    "rf_report = classification_report(y_test, y_pred, output_dict=True)\n",
    "rf_report = pd.DataFrame(rf_report).T\n",
    "rf_report"
   ]
  },
  {
   "cell_type": "markdown",
   "id": "f136bd27-c035-45e2-ab57-7c7ea85ae39d",
   "metadata": {},
   "source": [
    "#### K-Nearest Neighbors classification"
   ]
  },
  {
   "cell_type": "code",
   "execution_count": 643,
   "id": "5f523c32-3882-48a8-a4ca-13fc490439a3",
   "metadata": {},
   "outputs": [],
   "source": [
    "# K-Nearest Neighbors classification\n",
    "knn = KNeighborsClassifier(n_neighbors=3)\n",
    "knn.fit(X_train, y_train)\n",
    "# Make predictions on the test set\n",
    "y_pred = knn.predict(X_test)"
   ]
  },
  {
   "cell_type": "code",
   "execution_count": 644,
   "id": "6e16bc6c-a8b4-4935-a98f-57062dc4aff1",
   "metadata": {},
   "outputs": [
    {
     "data": {
      "text/plain": [
       "0.6448202959830867"
      ]
     },
     "execution_count": 644,
     "metadata": {},
     "output_type": "execute_result"
    }
   ],
   "source": [
    "# Accuracy of model\n",
    "knn_acc = accuracy_score(y_test, y_pred)\n",
    "knn_acc"
   ]
  },
  {
   "cell_type": "code",
   "execution_count": 645,
   "id": "873b8f14-5bc7-419a-84d4-40147326a9ed",
   "metadata": {},
   "outputs": [
    {
     "data": {
      "text/plain": [
       "0.6298125113428543"
      ]
     },
     "execution_count": 645,
     "metadata": {},
     "output_type": "execute_result"
    }
   ],
   "source": [
    "# Perform 5-fold cross-validation\n",
    "knn_cv_scores = cross_val_score(knn, X_train, y_train, cv=5, scoring='accuracy')\n",
    "knn_cv_scores.mean()"
   ]
  },
  {
   "cell_type": "code",
   "execution_count": 646,
   "id": "49ab7196-26fd-426b-b5b5-708026f7f84f",
   "metadata": {},
   "outputs": [
    {
     "data": {
      "text/plain": [
       "0.6735065261044177"
      ]
     },
     "execution_count": 646,
     "metadata": {},
     "output_type": "execute_result"
    }
   ],
   "source": [
    "# Get predicted probabilities for the positive class (class 1)\n",
    "y_prob = knn.predict_proba(X_test)[:, 1]\n",
    "# Calculate the ROC AUC score\n",
    "knn_auc = roc_auc_score(y_test, y_prob)\n",
    "knn_auc"
   ]
  },
  {
   "cell_type": "code",
   "execution_count": null,
   "id": "284e5387-3c63-4d2f-9ef8-55c3a9432830",
   "metadata": {},
   "outputs": [],
   "source": []
  },
  {
   "cell_type": "code",
   "execution_count": 647,
   "id": "69c3726f-6de6-4353-bb87-6a76624a713b",
   "metadata": {},
   "outputs": [
    {
     "data": {
      "text/html": [
       "<div>\n",
       "<style scoped>\n",
       "    .dataframe tbody tr th:only-of-type {\n",
       "        vertical-align: middle;\n",
       "    }\n",
       "\n",
       "    .dataframe tbody tr th {\n",
       "        vertical-align: top;\n",
       "    }\n",
       "\n",
       "    .dataframe thead th {\n",
       "        text-align: right;\n",
       "    }\n",
       "</style>\n",
       "<table border=\"1\" class=\"dataframe\">\n",
       "  <thead>\n",
       "    <tr style=\"text-align: right;\">\n",
       "      <th></th>\n",
       "      <th>precision</th>\n",
       "      <th>recall</th>\n",
       "      <th>f1-score</th>\n",
       "      <th>support</th>\n",
       "    </tr>\n",
       "  </thead>\n",
       "  <tbody>\n",
       "    <tr>\n",
       "      <th>0</th>\n",
       "      <td>0.615702</td>\n",
       "      <td>0.665179</td>\n",
       "      <td>0.639485</td>\n",
       "      <td>224.00000</td>\n",
       "    </tr>\n",
       "    <tr>\n",
       "      <th>1</th>\n",
       "      <td>0.675325</td>\n",
       "      <td>0.626506</td>\n",
       "      <td>0.650000</td>\n",
       "      <td>249.00000</td>\n",
       "    </tr>\n",
       "    <tr>\n",
       "      <th>accuracy</th>\n",
       "      <td>0.644820</td>\n",
       "      <td>0.644820</td>\n",
       "      <td>0.644820</td>\n",
       "      <td>0.64482</td>\n",
       "    </tr>\n",
       "    <tr>\n",
       "      <th>macro avg</th>\n",
       "      <td>0.645514</td>\n",
       "      <td>0.645842</td>\n",
       "      <td>0.644742</td>\n",
       "      <td>473.00000</td>\n",
       "    </tr>\n",
       "    <tr>\n",
       "      <th>weighted avg</th>\n",
       "      <td>0.647089</td>\n",
       "      <td>0.644820</td>\n",
       "      <td>0.645020</td>\n",
       "      <td>473.00000</td>\n",
       "    </tr>\n",
       "  </tbody>\n",
       "</table>\n",
       "</div>"
      ],
      "text/plain": [
       "              precision    recall  f1-score    support\n",
       "0              0.615702  0.665179  0.639485  224.00000\n",
       "1              0.675325  0.626506  0.650000  249.00000\n",
       "accuracy       0.644820  0.644820  0.644820    0.64482\n",
       "macro avg      0.645514  0.645842  0.644742  473.00000\n",
       "weighted avg   0.647089  0.644820  0.645020  473.00000"
      ]
     },
     "execution_count": 647,
     "metadata": {},
     "output_type": "execute_result"
    }
   ],
   "source": [
    "knn_report = classification_report(y_test, y_pred, output_dict=True)\n",
    "knn_report = pd.DataFrame(knn_report).T\n",
    "knn_report"
   ]
  },
  {
   "cell_type": "markdown",
   "id": "00036080-cbe7-403f-9cab-cd6147ef3667",
   "metadata": {},
   "source": [
    "#### Summary"
   ]
  },
  {
   "cell_type": "code",
   "execution_count": null,
   "id": "4650868f-f2cb-4fcf-a97c-ac0c2df60d06",
   "metadata": {},
   "outputs": [],
   "source": [
    "summary = {'Model': ['K-Nearest Neighbors', 'Logistic Regression', 'Random Forests'],\n",
    "           'Accuracy': [knn_acc, logistic_acc, rf_acc],\n",
    "           'Cross-Validation Accuracy': [knn_cv_scores.mean(), log_cv_scores.mean(), rf_cv_scores.mean()],\n",
    "           'Testing AUC' : [knn_auc, log_auc, rf_auc]\n",
    "}\n",
    "summary = pd.DataFrame(summary)\n",
    "summary"
   ]
  },
  {
   "cell_type": "markdown",
   "id": "d41a6541-441f-4df8-ab2c-ff23a81d6988",
   "metadata": {},
   "source": [
    "Based on the comparison of various metrics, the Random Forest classification model currently outperforms the other models. However, it's important to note that these results are derived from base models, with minimal feature engineering or hyperparameter tuning. As such, there is still significant potential for improvement by further refining the model through techniques such as feature engineering, model tuning, and advanced optimization."
   ]
  },
  {
   "cell_type": "markdown",
   "id": "8cf6dfcc-a2e4-46d3-a786-ea078782c99b",
   "metadata": {},
   "source": [
    "## 2. How can we predict the financial cost caused by bird strikes on a flight?"
   ]
  },
  {
   "cell_type": "code",
   "execution_count": null,
   "id": "e3df4b71-9d60-4e05-bc54-a19b20bd1a21",
   "metadata": {},
   "outputs": [],
   "source": [
    "# pred_cost = pred_cost[pred_cost['Cost'] > 0]"
   ]
  },
  {
   "cell_type": "code",
   "execution_count": null,
   "id": "f118691e-0499-405d-aecf-6a7ef53f27cf",
   "metadata": {},
   "outputs": [],
   "source": [
    "# Hot encoding variables\n",
    "X = ['OriginState', 'MakeModel', 'WildlifeSize',\n",
    "     'ConditionsSky', 'FlightPhase', 'IsAircraftLarge?',\n",
    "    'WildlifeSize', 'PilotWarned', 'AltitudeBin']"
   ]
  },
  {
   "cell_type": "code",
   "execution_count": null,
   "id": "8cffa3d1-d223-4994-9cef-ab6f6f209b76",
   "metadata": {},
   "outputs": [],
   "source": [
    "pred_cost = pd.get_dummies(pred_cost, columns = X, drop_first=True)\n",
    "# Drop columns from pred_outcome that exist in df excluding Engines\n",
    "pred_cost = pred_cost.drop(columns=[col for col in df.columns if col not in ['PeopleInjured','Engines', 'Month', 'Outcome', 'NumberStruckActual', 'Cost'] and col in pred_cost.columns])"
   ]
  },
  {
   "cell_type": "code",
   "execution_count": null,
   "id": "9f0de224-e4a5-4ae5-b7d3-6cf0e67ed4d5",
   "metadata": {},
   "outputs": [],
   "source": [
    "plt.figure(figsize=(10, 6))\n",
    "sns.histplot(data = pred_cost, x = 'Cost', bins = 50)\n",
    "plt.title('Cost Distribution of All Strikes')\n",
    "plt.show();"
   ]
  },
  {
   "cell_type": "markdown",
   "id": "ec2d218e-995c-418d-82c0-de07e787de26",
   "metadata": {},
   "source": [
    "Due to right skew, 'Cost' variable will be transformed."
   ]
  },
  {
   "cell_type": "code",
   "execution_count": null,
   "id": "819ea6b3-f2de-48dd-8df9-42afb0e76b6b",
   "metadata": {},
   "outputs": [],
   "source": [
    "# Separating independent and dependent data\n",
    "predictors = pred_cost.drop('Cost', axis = 1)\n",
    "# Applying a logarithmic transformation to 'Cost' to address skewness\n",
    "predictant = pred_cost.Cost\n",
    "predictant = pd.DataFrame(predictant)\n",
    "predictant.head()"
   ]
  },
  {
   "cell_type": "code",
   "execution_count": null,
   "id": "52b0fc78-405b-4ced-839b-827f7466fcaf",
   "metadata": {},
   "outputs": [],
   "source": [
    "X_train, X_test, y_train, y_test = train_test_split(predictors, predictant, test_size=0.2, random_state=1234)"
   ]
  },
  {
   "cell_type": "code",
   "execution_count": null,
   "id": "523b8e65-8c73-455d-adde-9acabf281655",
   "metadata": {},
   "outputs": [],
   "source": [
    "# Scaling variables\n",
    "scaler = StandardScaler()\n",
    "X_train_scaled = scaler.fit_transform(X_train[['PeopleInjured','NumberStruckActual']])\n",
    "X_test_scaled = scaler.transform(X_test[['PeopleInjured','NumberStruckActual']])\n",
    "\n",
    "# Logging 'Cost' to avoid skewing\n",
    "y_train = np.log1p(y_train.Cost)\n",
    "y_test = np.log1p(y_test.Cost)"
   ]
  },
  {
   "cell_type": "code",
   "execution_count": null,
   "id": "c97b5cab-a2e9-47ab-ba0a-5de9fe251fcd",
   "metadata": {},
   "outputs": [],
   "source": [
    "# Linear Regression\n",
    "line = LinearRegression()\n",
    "# Train the model\n",
    "line.fit(X_train_scaled, y_train)\n",
    "# Make predictions\n",
    "y_pred = line.predict(X_test_scaled)"
   ]
  },
  {
   "cell_type": "code",
   "execution_count": null,
   "id": "ed50561a-6151-4bba-aba7-e1e32333d0fa",
   "metadata": {},
   "outputs": [],
   "source": [
    "mean_squared_error(y_test, y_pred)"
   ]
  },
  {
   "cell_type": "code",
   "execution_count": null,
   "id": "a909a001-4827-4047-82b7-a4c3872384da",
   "metadata": {},
   "outputs": [],
   "source": [
    "r2 = r2_score(y_test, y_pred)\n",
    "r2"
   ]
  },
  {
   "cell_type": "markdown",
   "id": "abda7af0-4b26-4d6f-92a3-88d81716a66a",
   "metadata": {},
   "source": [
    "The linear regression model demonstrated good performance in predicting the cost, but R2 is low."
   ]
  },
  {
   "cell_type": "code",
   "execution_count": null,
   "id": "cea07ad2-1fc5-4c49-9c4a-0f2755e54bb4",
   "metadata": {},
   "outputs": [],
   "source": [
    "# Random Forest Regressor\n",
    "rf = RandomForestRegressor(n_estimators=100, random_state=1234)\n",
    "# Train the model\n",
    "rf.fit(X_train, y_train)\n",
    "# Make predictions\n",
    "y_pred = rf.predict(X_test)"
   ]
  },
  {
   "cell_type": "code",
   "execution_count": null,
   "id": "15c6b507-37b3-4e34-86ad-e33be0fd6822",
   "metadata": {},
   "outputs": [],
   "source": [
    "mse = mean_squared_error(y_test, y_pred)\n",
    "mse"
   ]
  },
  {
   "cell_type": "code",
   "execution_count": null,
   "id": "af0a141d-42d0-4c96-bff1-0b989c1dcfde",
   "metadata": {},
   "outputs": [],
   "source": [
    "r2 = r2_score(y_test, y_pred)\n",
    "r2"
   ]
  },
  {
   "cell_type": "code",
   "execution_count": null,
   "id": "016c80cc-026f-40b5-9ca4-b496e77a65ad",
   "metadata": {},
   "outputs": [],
   "source": [
    "# Reversing log transformation\n",
    "rmse = np.sqrt(mse)\n",
    "original_scale_error = np.expm1(rmse)\n",
    "original_scale_error"
   ]
  },
  {
   "cell_type": "code",
   "execution_count": null,
   "id": "04fa18e2-8e84-4afe-a261-b09f552ee3d5",
   "metadata": {},
   "outputs": [],
   "source": [
    "# Residual plot\n",
    "residuals = residuals = y_test - y_pred\n",
    "sns.scatterplot(x = y_pred, y = residuals, alpha=0.7, label=\"Residuals\")\n",
    "\n",
    "# Add a horizontal line at residual = 0 for reference\n",
    "plt.axhline(0, color='red', linestyle='--', label=\"Zero Residual Line\")\n",
    "\n",
    "# Labels and title\n",
    "plt.xlabel(\"Predicted Values\")\n",
    "plt.ylabel(\"Residuals (Actual - Predicted)\")\n",
    "plt.title(\"Residual Plot\")\n",
    "plt.legend()\n",
    "plt.grid(True)\n",
    "plt.tight_layout()\n",
    "plt.show()"
   ]
  },
  {
   "cell_type": "code",
   "execution_count": null,
   "id": "f3944ce3-8640-4a2f-bb92-d03e788dbbd8",
   "metadata": {},
   "outputs": [],
   "source": [
    "# Plotting predicted log cost and actual log cost\n",
    "plt.figure(figsize=(8, 6))\n",
    "sns.scatterplot(x=y_test, y=y_pred, alpha=0.7, label=\"Predictions\")\n",
    "\n",
    "# Add a diagonal reference line\n",
    "max_val = max(max(y_test), max(y_pred))\n",
    "min_val = min(min(y_test), min(y_pred))\n",
    "plt.plot([min_val, max_val], [min_val, max_val], color='red', linestyle='--', label=\"Perfect Prediction\")\n",
    "\n",
    "# Add labels, title, and legend\n",
    "plt.title('Prediction vs. Actual')\n",
    "plt.xlabel('Actual Log Cost')\n",
    "plt.ylabel('Predicted Log Cost')\n",
    "plt.legend()\n",
    "plt.grid(True)\n",
    "plt.tight_layout()\n",
    "plt.show()"
   ]
  },
  {
   "cell_type": "markdown",
   "id": "71cf98d4-149e-4c77-817f-075c77090830",
   "metadata": {},
   "source": [
    "The residual plot show a nice random distribution of residual, although there are some outliers. The predicted vs actual plot show that most prediction fall within a decent distance from their actual value, except for certain cases."
   ]
  },
  {
   "cell_type": "markdown",
   "id": "8dc2ffe0-e58a-486b-a5b3-8dc5f0a6197f",
   "metadata": {},
   "source": [
    "## 3.Based on historical bird strike data, what is the expected number of bird strikes for the next time interval (e.g., daily, weekly)?"
   ]
  },
  {
   "cell_type": "markdown",
   "id": "eb227581-2060-4892-a951-2842b934752a",
   "metadata": {
    "jp-MarkdownHeadingCollapsed": true
   },
   "source": [
    "# Summary of Bird Strikes Report\n",
    "\n",
    "## Aircraft Type and Vulnerability\n",
    "- **Two-engine aircraft** experience the highest number of both total and damaging bird strikes, likely due to their higher abundance.\n",
    "- **Single-engine aircraft** are disproportionately affected by damaging strikes, as they are more vulnerable without a backup engine.\n",
    "\n",
    "## Rate of Damage\n",
    "- The **bar plot** shows that **single-engine aircraft** are the most vulnerable to damage once struck.\n",
    "- **Larger bird species** are more involved in damaging strikes compared to all strikes, likely due to their higher impact.\n",
    "- **Smaller species** account for the majority of overall strikes, but most damaging strikes are caused by larger species.\n",
    "\n",
    "## Phases of Flight\n",
    "- Most strikes occur during the **approach phase**, which also sees the highest frequency of damaging strikes.\n",
    "- The **climbing phase** shows a disproportionate increase in damaging strikes compared to other phases, excluding the approach phase.\n",
    "- **Landing roll** has the fewest damaging strikes.\n",
    "- **Take-off and climbing phases** show higher average costs for damaging strikes, suggesting the need for targeted countermeasures in these phases.\n",
    "\n",
    "## Cost of Strikes\n",
    "- While most costs arise from damaging strikes, **non-damaging strikes** in the **landing roll phase** result in significant costs, likely due to flight delays and additional inspection or compensation expenses.\n",
    "- Preventive measures could be more effective during the landing roll phase, where strikes are on the ground.\n",
    "\n",
    "## Geographic Distribution\n",
    "- **California, Texas, and Florida** have the highest frequency of bird strikes, likely due to their location on migratory paths and higher bird populations.\n",
    "- The **map of damaging strikes** highlights the same states as key concerns, but **Oregon and Washington** show a higher concentration of damaging strikes, indicating the need for more targeted mitigation efforts.\n",
    "- A secondary cluster in the **Northwestern and Midwestern states** suggests that these regions, with abundant bird habitats, also experience significant strike rates.\n",
    "\n",
    "## Seasonal Trends\n",
    "- Bird strikes begin to rise in **March**, peaking in **July, August, and September** (summer months), then sharply decline after **October**.\n",
    "- The peak in strikes aligns with both increased **air travel** in summer and **bird migration** during the fall.\n",
    "- **Damaging strikes** occur more frequently in the spring and summer, likely due to the high volume of birds migrating and increased flights during these months.\n",
    "\n",
    "## Model Performance\n",
    "- The **Random Forest classifier** currently outperforms other models, though there is still room for improvement with feature engineering and hyperparameter tuning.\n",
    "- The **Linear Regression model** performed poorly in predicting costs, likely due to violations of its assumptions.\n",
    "- The **Random Forest Regressor** provided a significant improvement, predicting the cost of damaging bird strikes with less than 10-unit error, a major enhancement over the linear regression model.\n"
   ]
  },
  {
   "cell_type": "code",
   "execution_count": null,
   "id": "c5dad182-2a20-4f7a-9153-53c288667d05",
   "metadata": {},
   "outputs": [],
   "source": []
  }
 ],
 "metadata": {
  "kernelspec": {
   "display_name": "Python (datascience)",
   "language": "python",
   "name": "datascience"
  },
  "language_info": {
   "codemirror_mode": {
    "name": "ipython",
    "version": 3
   },
   "file_extension": ".py",
   "mimetype": "text/x-python",
   "name": "python",
   "nbconvert_exporter": "python",
   "pygments_lexer": "ipython3",
   "version": "3.12.8"
  }
 },
 "nbformat": 4,
 "nbformat_minor": 5
}
